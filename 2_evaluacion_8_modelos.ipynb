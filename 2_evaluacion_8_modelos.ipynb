{
 "cells": [
  {
   "cell_type": "markdown",
   "metadata": {},
   "source": [
    "# Deep Learning | Laboratorio 1 | Clasificación de Aviones\n",
    "\n",
    "## Notebook 2: Comparativa de 7 Modelos\n",
    "\n",
    "Grupo 3:\\\n",
    "Dante Baldeón \\| Roberto Hurtado \\| Javier Linares\n",
    "\n",
    "\n",
    "Este notebook entrena y compara 7 arquitecturas diferentes de redes neuronales convolucionales:\n",
    "\n",
    "- **ResNet**: 18, 34, 50\n",
    "- **EfficientNet**: B0, B1, B2\n",
    "- **DenseNet**: 121\n",
    "\n",
    "## Estructura del Notebook 2:\n",
    "\n",
    "1.  **Configuración**: Librerias y dispositivos\\\n",
    "2.  **Dataset y transformaciones**: Carga y preparación de datos con división 80/10/10\n",
    "3.  **Entrenamiento Inicial (15 épocas)**: Comparación de 7 modelos\n",
    "    preentrenados.\\\n",
    "4.  **Entrenamiento Ampliado (50 épocas)**: EfficientNet-B1,\n",
    "    EfficientNet-B2 y DenseNet-121.\\\n",
    "5.  **Resultados Finales y Conclusiones**: Precisión comparativa y\n",
    "    análisis crítico."
   ]
  },
  {
   "cell_type": "markdown",
   "metadata": {},
   "source": [
    "## 1. Configuración\n"
   ]
  },
  {
   "cell_type": "code",
   "execution_count": 1,
   "metadata": {},
   "outputs": [
    {
     "name": "stderr",
     "output_type": "stream",
     "text": [
      "/Users/javier/Documents/202508_DeepL_lab1_B/.venv/lib/python3.13/site-packages/tqdm/auto.py:21: TqdmWarning: IProgress not found. Please update jupyter and ipywidgets. See https://ipywidgets.readthedocs.io/en/stable/user_install.html\n",
      "  from .autonotebook import tqdm as notebook_tqdm\n"
     ]
    },
    {
     "name": "stdout",
     "output_type": "stream",
     "text": [
      "📦 Librerías importadas correctamente\n",
      "🐍 Python: 2.8.0\n",
      "🔥 PyTorch: 2.8.0\n",
      "🤖 TIMM: 1.0.19\n"
     ]
    }
   ],
   "source": [
    "# Importaciones principales\n",
    "import torch\n",
    "import torch.nn as nn\n",
    "import torch.optim as optim\n",
    "from torch.utils.data import DataLoader, random_split\n",
    "from torchvision import datasets, transforms\n",
    "import timm\n",
    "\n",
    "# Librerías de análisis y visualización\n",
    "import pandas as pd\n",
    "import numpy as np\n",
    "import matplotlib.pyplot as plt\n",
    "import seaborn as sns\n",
    "from datetime import datetime\n",
    "import time\n",
    "import os\n",
    "from pathlib import Path\n",
    "from tqdm import tqdm\n",
    "import warnings\n",
    "warnings.filterwarnings('ignore')\n",
    "\n",
    "# Configuración de matplotlib en español\n",
    "plt.rcParams['font.size'] = 12\n",
    "plt.rcParams['figure.figsize'] = (12, 8)\n",
    "sns.set_style(\"whitegrid\")\n",
    "\n",
    "print(\"📦 Librerías importadas correctamente\")\n",
    "print(f\"🐍 Python: {torch.__version__}\")\n",
    "print(f\"🔥 PyTorch: {torch.__version__}\")\n",
    "print(f\"🤖 TIMM: {timm.__version__}\")"
   ]
  },
  {
   "cell_type": "code",
   "execution_count": 2,
   "metadata": {},
   "outputs": [
    {
     "name": "stdout",
     "output_type": "stream",
     "text": [
      "🍎 Dispositivo detectado: Apple Silicon con aceleración MPS\n",
      "\n",
      "🎲 Semilla configurada: 42\n",
      "📱 Dispositivo seleccionado: mps\n"
     ]
    }
   ],
   "source": [
    "# Configuración y detección automática de dispositivo\n",
    "def detectar_dispositivo():\n",
    "    \"\"\"\n",
    "    Detecta automáticamente el mejor dispositivo disponible:\n",
    "    Prioridad: MPS (Mac M4) > CUDA (A100) > CPU\n",
    "    \"\"\"\n",
    "    if torch.backends.mps.is_available():\n",
    "        dispositivo = torch.device(\"mps\")\n",
    "        tipo_gpu = \"Apple Silicon (MPS)\"\n",
    "        print(\"🍎 Dispositivo detectado: Apple Silicon con aceleración MPS\")\n",
    "    elif torch.cuda.is_available():\n",
    "        dispositivo = torch.device(\"cuda\")\n",
    "        tipo_gpu = f\"NVIDIA {torch.cuda.get_device_name(0)}\"\n",
    "        print(f\"🚀 Dispositivo detectado: {tipo_gpu}\")\n",
    "        print(f\"   - Memoria total: {torch.cuda.get_device_properties(0).total_memory / 1024**3:.1f} GB\")\n",
    "    else:\n",
    "        dispositivo = torch.device(\"cpu\")\n",
    "        tipo_gpu = \"CPU\"\n",
    "        print(\"💻 Usando CPU (sin aceleración GPU)\")\n",
    "    \n",
    "    return dispositivo, tipo_gpu\n",
    "\n",
    "# Detectar dispositivo\n",
    "dispositivo, info_gpu = detectar_dispositivo()\n",
    "\n",
    "# Configuración de semillas para reproducibilidad\n",
    "semilla = 42\n",
    "torch.manual_seed(semilla)\n",
    "np.random.seed(semilla)\n",
    "if torch.cuda.is_available():\n",
    "    torch.cuda.manual_seed(semilla)\n",
    "    torch.cuda.manual_seed_all(semilla)\n",
    "\n",
    "print(f\"\\n🎲 Semilla configurada: {semilla}\")\n",
    "print(f\"📱 Dispositivo seleccionado: {dispositivo}\")"
   ]
  },
  {
   "cell_type": "markdown",
   "metadata": {},
   "source": [
    "## 2. Preparación del Dataset con División 80/10/10"
   ]
  },
  {
   "cell_type": "code",
   "execution_count": 3,
   "metadata": {},
   "outputs": [
    {
     "name": "stdout",
     "output_type": "stream",
     "text": [
      "📁 Dataset base: /Users/javier/Documents/202508_DeepL_lab1_B/data\n",
      "   - train: ✅\n",
      "   - val:   ✅\n",
      "   - test:  ✅\n",
      "\n",
      "📊 Información del Dataset:\n",
      "   - Total de imágenes (train+val+test): 10,000\n",
      "   - Entrenamiento: 8,000\n",
      "   - Validación:   1,000\n",
      "   - Prueba:       1,000\n",
      "   - Número de clases: 100\n",
      "   - Primeras 5 clases: ['707-320', '727-200', '737-200', '737-300', '737-400']\n"
     ]
    }
   ],
   "source": [
    "# Configuración del dataset\n",
    "ruta_dataset_base = './data'\n",
    "train_dir = os.path.join(ruta_dataset_base, 'train')\n",
    "val_dir = os.path.join(ruta_dataset_base, 'val')\n",
    "test_dir = os.path.join(ruta_dataset_base, 'test')\n",
    "\n",
    "tamaño_lote_base = 32  # Batch size base, se ajustará por modelo\n",
    "num_workers = 4\n",
    "\n",
    "# Verificar que existe el dataset y sus splits\n",
    "if not os.path.exists(train_dir):\n",
    "    raise FileNotFoundError(f\"❌ No se encontró el directorio de entrenamiento: {train_dir}\")\n",
    "print(f\"📁 Dataset base: {os.path.abspath(ruta_dataset_base)}\")\n",
    "print(f\"   - train: {'✅' if os.path.exists(train_dir) else '❌'}\")\n",
    "print(f\"   - val:   {'✅' if os.path.exists(val_dir) else '❌'}\")\n",
    "print(f\"   - test:  {'✅' if os.path.exists(test_dir) else '❌'}\")\n",
    "\n",
    "# Transformación temporal para obtener info del dataset\n",
    "transformacion_temp = transforms.Compose([\n",
    "    transforms.Resize(224),\n",
    "    transforms.ToTensor()\n",
    "])\n",
    "\n",
    "# Cargar datasets por split (para info y como base)\n",
    "dataset_train_base = datasets.ImageFolder(root=train_dir, transform=transformacion_temp)\n",
    "dataset_val_base = datasets.ImageFolder(root=val_dir, transform=transformacion_temp) if os.path.exists(val_dir) else None\n",
    "dataset_test_base = datasets.ImageFolder(root=test_dir, transform=transformacion_temp) if os.path.exists(test_dir) else None\n",
    "\n",
    "num_clases = len(dataset_train_base.classes)\n",
    "nombres_clases = dataset_train_base.classes\n",
    "\n",
    "total_imagenes = len(dataset_train_base)\n",
    "if dataset_val_base is not None:\n",
    "    total_imagenes += len(dataset_val_base)\n",
    "if dataset_test_base is not None:\n",
    "    total_imagenes += len(dataset_test_base)\n",
    "\n",
    "print(f\"\\n📊 Información del Dataset:\")\n",
    "print(f\"   - Total de imágenes (train+val+test): {total_imagenes:,}\")\n",
    "print(f\"   - Entrenamiento: {len(dataset_train_base):,}\")\n",
    "print(f\"   - Validación:   {len(dataset_val_base) if dataset_val_base is not None else 0:,}\")\n",
    "print(f\"   - Prueba:       {len(dataset_test_base) if dataset_test_base is not None else 0:,}\")\n",
    "print(f\"   - Número de clases: {num_clases}\")\n",
    "print(f\"   - Primeras 5 clases: {nombres_clases[:5]}\")"
   ]
  },
  {
   "cell_type": "code",
   "execution_count": 4,
   "metadata": {},
   "outputs": [
    {
     "name": "stdout",
     "output_type": "stream",
     "text": [
      "📋 Usando splits predefinidos:\n",
      "   - Entrenamiento: 8,000\n",
      "   - Validación:   1,000\n",
      "   - Prueba:       1,000\n",
      "\n",
      "✅ Splits configurados\n"
     ]
    }
   ],
   "source": [
    "# Usar los splits ya preparados en ./data/train, ./data/val, ./data/test\n",
    "print(f\"📋 Usando splits predefinidos:\")\n",
    "print(f\"   - Entrenamiento: {len(dataset_train_base):,}\")\n",
    "print(f\"   - Validación:   {len(dataset_val_base) if dataset_val_base is not None else 0:,}\")\n",
    "print(f\"   - Prueba:       {len(dataset_test_base) if dataset_test_base is not None else 0:,}\")\n",
    "\n",
    "datos_entrenamiento = dataset_train_base\n",
    "datos_validacion = dataset_val_base if dataset_val_base is not None else dataset_train_base\n",
    "print(\"\\n✅ Splits configurados\")"
   ]
  },
  {
   "cell_type": "code",
   "execution_count": 5,
   "metadata": {},
   "outputs": [
    {
     "name": "stdout",
     "output_type": "stream",
     "text": [
      "⚙️ Configuraciones de los modelos:\n",
      "======================================================================\n",
      "Modelo               Entrada    Batch Size   Familia        \n",
      "======================================================================\n",
      "ResNet-18            224x224   32           ResNet         \n",
      "ResNet-34            224x224   32           ResNet         \n",
      "ResNet-50            224x224   24           ResNet         \n",
      "EfficientNet-B0      224x224   32           EfficientNet   \n",
      "EfficientNet-B1      240x240   28           EfficientNet   \n",
      "EfficientNet-B2      260x260   20           EfficientNet   \n",
      "DenseNet-121         224x224   32           DenseNet       \n",
      "DenseNet-169         224x224   24           DenseNet       \n",
      "======================================================================\n"
     ]
    }
   ],
   "source": [
    "# Configuraciones específicas por modelo\n",
    "configuraciones_modelos = {\n",
    "    'resnet18': {\n",
    "        'nombre_timm': 'resnet18',\n",
    "        'nombre_mostrar': 'ResNet-18',\n",
    "        'tamaño_entrada': 224,\n",
    "        'batch_size': 32,\n",
    "        'familia': 'ResNet'\n",
    "    },\n",
    "    'resnet34': {\n",
    "        'nombre_timm': 'resnet34',\n",
    "        'nombre_mostrar': 'ResNet-34',\n",
    "        'tamaño_entrada': 224,\n",
    "        'batch_size': 32,\n",
    "        'familia': 'ResNet'\n",
    "    },\n",
    "    'resnet50': {\n",
    "        'nombre_timm': 'resnet50',\n",
    "        'nombre_mostrar': 'ResNet-50',\n",
    "        'tamaño_entrada': 224,\n",
    "        'batch_size': 24,\n",
    "        'familia': 'ResNet'\n",
    "    },\n",
    "    'efficientnet_b0': {\n",
    "        'nombre_timm': 'efficientnet_b0',\n",
    "        'nombre_mostrar': 'EfficientNet-B0',\n",
    "        'tamaño_entrada': 224,\n",
    "        'batch_size': 32,\n",
    "        'familia': 'EfficientNet'\n",
    "    },\n",
    "    'efficientnet_b1': {\n",
    "        'nombre_timm': 'efficientnet_b1',\n",
    "        'nombre_mostrar': 'EfficientNet-B1',\n",
    "        'tamaño_entrada': 240,\n",
    "        'batch_size': 28,\n",
    "        'familia': 'EfficientNet'\n",
    "    },\n",
    "    'efficientnet_b2': {\n",
    "        'nombre_timm': 'efficientnet_b2',\n",
    "        'nombre_mostrar': 'EfficientNet-B2',\n",
    "        'tamaño_entrada': 260,\n",
    "        'batch_size': 20,\n",
    "        'familia': 'EfficientNet'\n",
    "    },\n",
    "    'densenet121': {\n",
    "        'nombre_timm': 'densenet121',\n",
    "        'nombre_mostrar': 'DenseNet-121',\n",
    "        'tamaño_entrada': 224,\n",
    "        'batch_size': 32,\n",
    "        'familia': 'DenseNet'\n",
    "    },\n",
    "    'densenet169': {\n",
    "        'nombre_timm': 'densenet169',\n",
    "        'nombre_mostrar': 'DenseNet-169',\n",
    "        'tamaño_entrada': 224,\n",
    "        'batch_size': 24,\n",
    "        'familia': 'DenseNet'\n",
    "    }\n",
    "}\n",
    "\n",
    "# Mostrar tabla de configuraciones\n",
    "print(\"⚙️ Configuraciones de los modelos:\")\n",
    "print(\"=\"*70)\n",
    "print(f\"{'Modelo':<20} {'Entrada':<10} {'Batch Size':<12} {'Familia':<15}\")\n",
    "print(\"=\"*70)\n",
    "for modelo, config in configuraciones_modelos.items():\n",
    "    print(f\"{config['nombre_mostrar']:<20} {config['tamaño_entrada']}x{config['tamaño_entrada']:<5} {config['batch_size']:<12} {config['familia']:<15}\")\n",
    "print(\"=\"*70)"
   ]
  },
  {
   "cell_type": "code",
   "execution_count": 6,
   "metadata": {},
   "outputs": [
    {
     "name": "stdout",
     "output_type": "stream",
     "text": [
      "🔧 Funciones auxiliares definidas correctamente\n"
     ]
    }
   ],
   "source": [
    "# Funciones auxiliares para el entrenamiento\n",
    "\n",
    "def crear_transformaciones(tamaño_entrada, es_entrenamiento=True):\n",
    "    \"\"\"\n",
    "    Crea transformaciones de datos optimizadas para cada fase.\n",
    "    \"\"\"\n",
    "    if es_entrenamiento:\n",
    "        return transforms.Compose([\n",
    "            transforms.Resize(int(tamaño_entrada * 1.1)),\n",
    "            transforms.RandomCrop(tamaño_entrada),\n",
    "            transforms.RandomHorizontalFlip(p=0.5),\n",
    "            transforms.RandomRotation(15),\n",
    "            transforms.ColorJitter(brightness=0.2, contrast=0.2, saturation=0.2, hue=0.1),\n",
    "            transforms.ToTensor(),\n",
    "            transforms.Normalize(mean=[0.485, 0.456, 0.406], std=[0.229, 0.224, 0.225])\n",
    "        ])\n",
    "    else:\n",
    "        return transforms.Compose([\n",
    "            transforms.Resize(int(tamaño_entrada * 1.14)),\n",
    "            transforms.CenterCrop(tamaño_entrada),\n",
    "            transforms.ToTensor(),\n",
    "            transforms.Normalize(mean=[0.485, 0.456, 0.406], std=[0.229, 0.224, 0.225])\n",
    "        ])\n",
    "\n",
    "def _set_transform(ds, transform):\n",
    "    # Soporta ImageFolder o Subset(ImageFolder)\n",
    "    if hasattr(ds, 'dataset') and ds.dataset is not None:\n",
    "        ds.dataset.transform = transform\n",
    "    else:\n",
    "        ds.transform = transform\n",
    "\n",
    "def crear_dataloaders(dataset_train, dataset_val, tamaño_lote, tamaño_entrada):\n",
    "    \"\"\"\n",
    "    Crea dataloaders con las transformaciones apropiadas.\n",
    "    Acepta ImageFolder o Subset.\n",
    "    \"\"\"\n",
    "    # Aplicar transformaciones de forma segura\n",
    "    _set_transform(dataset_train, crear_transformaciones(tamaño_entrada, es_entrenamiento=True))\n",
    "    _set_transform(dataset_val, crear_transformaciones(tamaño_entrada, es_entrenamiento=False))\n",
    "    \n",
    "    # Crear dataloaders\n",
    "    loader_entrenamiento = DataLoader(\n",
    "        dataset_train,\n",
    "        batch_size=tamaño_lote,\n",
    "        shuffle=True,\n",
    "        num_workers=num_workers,\n",
    "        pin_memory=True if dispositivo.type == 'cuda' else False\n",
    "    )\n",
    "    \n",
    "    loader_validacion = DataLoader(\n",
    "        dataset_val,\n",
    "        batch_size=tamaño_lote * 2,  # Batch más grande para validación\n",
    "        shuffle=False,\n",
    "        num_workers=num_workers,\n",
    "        pin_memory=True if dispositivo.type == 'cuda' else False\n",
    "    )\n",
    "    \n",
    "    return loader_entrenamiento, loader_validacion\n",
    "\n",
    "# Helper: crear ResNet con fine-tuning (descongelar layer4 + fc)\n",
    "\n",
    "def crear_resnet_finetuning(nombre_timm: str, num_classes: int) -> nn.Module:\n",
    "    \"\"\"\n",
    "    Crea una ResNet preentrenada con todas las capas congeladas excepto 'layer4' y 'fc'.\n",
    "    Reemplaza el clasificador final con num_classes.\n",
    "    \"\"\"\n",
    "    model = timm.create_model(nombre_timm, pretrained=True)\n",
    "    # Congelar todas las capas\n",
    "    for p in model.parameters():\n",
    "        p.requires_grad = False\n",
    "    # Descongelar layer4 si existe\n",
    "    if hasattr(model, 'layer4'):\n",
    "        for p in model.layer4.parameters():\n",
    "            p.requires_grad = True\n",
    "    # Reemplazar clasificador\n",
    "    if hasattr(model, 'reset_classifier'):\n",
    "        model.reset_classifier(num_classes=num_classes)\n",
    "    else:\n",
    "        if hasattr(model, 'fc') and isinstance(model.fc, nn.Linear):\n",
    "            in_features = model.fc.in_features\n",
    "            model.fc = nn.Linear(in_features, num_classes)\n",
    "        elif hasattr(model, 'classifier') and isinstance(model.classifier, nn.Linear):\n",
    "            in_features = model.classifier.in_features\n",
    "            model.classifier = nn.Linear(in_features, num_classes)\n",
    "    # Asegurar que el clasificador esté entrenable\n",
    "    if hasattr(model, 'fc') and hasattr(model.fc, 'parameters'):\n",
    "        for p in model.fc.parameters():\n",
    "            p.requires_grad = True\n",
    "    if hasattr(model, 'classifier') and hasattr(model.classifier, 'parameters'):\n",
    "        for p in model.classifier.parameters():\n",
    "            p.requires_grad = True\n",
    "    return model\n",
    "\n",
    "# Nuevo: mover el modelo al dispositivo con registro de tiempo y opciones seguras\n",
    "\n",
    "def mover_modelo_seguro(modelo: nn.Module, dispositivo: torch.device) -> nn.Module:\n",
    "    \"\"\"\n",
    "    Mueve el modelo al dispositivo seleccionado con registro de tiempo.\n",
    "    Usa non_blocking en CUDA cuando es posible. No cambia dtypes por defecto.\n",
    "    \"\"\"\n",
    "    print(f\"🔌 Moviendo modelo a {dispositivo}...\")\n",
    "    t0 = time.time()\n",
    "    if dispositivo.type == 'cuda':\n",
    "        modelo = modelo.to(dispositivo, non_blocking=True)\n",
    "    else:\n",
    "        modelo = modelo.to(dispositivo)\n",
    "    dt = time.time() - t0\n",
    "    print(f\"✅ Modelo en {dispositivo} (t={dt:.1f}s)\")\n",
    "    return modelo\n",
    "\n",
    "print(\"🔧 Funciones auxiliares definidas correctamente\")"
   ]
  },
  {
   "cell_type": "code",
   "execution_count": 7,
   "metadata": {},
   "outputs": [
    {
     "name": "stdout",
     "output_type": "stream",
     "text": [
      "📈 Función de entrenamiento definida\n"
     ]
    }
   ],
   "source": [
    "# Función de entrenamiento optimizada\n",
    "\n",
    "def entrenar_modelo(modelo, loader_train, loader_val, nombre_modelo, epocas=3):\n",
    "    \"\"\"\n",
    "    Entrena un modelo por el número especificado de épocas.\n",
    "    Retorna historial de métricas y modelo entrenado.\n",
    "    \"\"\"\n",
    "    print(f\"\\n🚀 Iniciando entrenamiento de {nombre_modelo}\")\n",
    "    print(f\"   - Épocas: {epocas}\")\n",
    "    print(f\"   - Dispositivo: {dispositivo}\")\n",
    "    print(f\"   - Lotes de entrenamiento: {len(loader_train)}\")\n",
    "    print(f\"   - Lotes de validación: {len(loader_val)}\")\n",
    "    \n",
    "    # Configuración del optimizador y criterio\n",
    "    optimizador = optim.AdamW(modelo.parameters(), lr=1e-3, weight_decay=0.01)\n",
    "    criterio = nn.CrossEntropyLoss()\n",
    "    \n",
    "    # Scheduler de learning rate\n",
    "    scheduler = optim.lr_scheduler.OneCycleLR(\n",
    "        optimizador,\n",
    "        max_lr=1e-3,\n",
    "        steps_per_epoch=len(loader_train),\n",
    "        epochs=epocas\n",
    "    )\n",
    "    \n",
    "    # Historial de métricas\n",
    "    historial = {\n",
    "        'loss_entrenamiento': [],\n",
    "        'loss_validacion': [],\n",
    "        'precision_entrenamiento': [],\n",
    "        'precision_validacion': [],\n",
    "        'precision_top5_validacion': [],\n",
    "        'tiempos_epoca': []\n",
    "    }\n",
    "    \n",
    "    mejor_precision = 0.0\n",
    "    \n",
    "    for epoca in range(epocas):\n",
    "        inicio_epoca = time.time()\n",
    "        print(f\"\\nÉpoca {epoca + 1}/{epocas}\")\n",
    "        print(\"-\" * 50)\n",
    "        \n",
    "        # === FASE DE ENTRENAMIENTO ===\n",
    "        modelo.train()\n",
    "        loss_epoch_train = 0.0\n",
    "        correctos_train = 0\n",
    "        total_train = 0\n",
    "        \n",
    "        pbar_train = tqdm(loader_train, desc=f\"Entrenamiento\", leave=False)\n",
    "        for imagenes, etiquetas in pbar_train:\n",
    "            imagenes, etiquetas = imagenes.to(dispositivo), etiquetas.to(dispositivo)\n",
    "            \n",
    "            # Forward pass\n",
    "            optimizador.zero_grad()\n",
    "            salidas = modelo(imagenes)\n",
    "            loss = criterio(salidas, etiquetas)\n",
    "            \n",
    "            # Backward pass\n",
    "            loss.backward()\n",
    "            optimizador.step()\n",
    "            scheduler.step()\n",
    "            \n",
    "            # Métricas\n",
    "            loss_epoch_train += loss.item()\n",
    "            _, predicciones = torch.max(salidas.data, 1)\n",
    "            total_train += etiquetas.size(0)\n",
    "            correctos_train += (predicciones == etiquetas).sum().item()\n",
    "            \n",
    "            # Actualizar barra de progreso\n",
    "            precision_actual = 100.0 * correctos_train / total_train\n",
    "            pbar_train.set_postfix({\n",
    "                'Loss': f'{loss.item():.4f}',\n",
    "                'Acc': f'{precision_actual:.2f}%'\n",
    "            })\n",
    "        \n",
    "        # === FASE DE VALIDACIÓN ===\n",
    "        modelo.eval()\n",
    "        loss_epoch_val = 0.0\n",
    "        correctos_val = 0\n",
    "        correctos_top5 = 0\n",
    "        total_val = 0\n",
    "        \n",
    "        with torch.no_grad():\n",
    "            pbar_val = tqdm(loader_val, desc=f\"Validación\", leave=False)\n",
    "            for imagenes, etiquetas in pbar_val:\n",
    "                imagenes, etiquetas = imagenes.to(dispositivo), etiquetas.to(dispositivo)\n",
    "                \n",
    "                salidas = modelo(imagenes)\n",
    "                loss = criterio(salidas, etiquetas)\n",
    "                \n",
    "                loss_epoch_val += loss.item()\n",
    "                \n",
    "                # Top-1 accuracy\n",
    "                _, predicciones = torch.max(salidas, 1)\n",
    "                total_val += etiquetas.size(0)\n",
    "                correctos_val += (predicciones == etiquetas).sum().item()\n",
    "                \n",
    "                # Top-K accuracy (usar K = min(5, num_clases_modelo)) para evitar errores cuando hay <5 clases\n",
    "                k = min(5, salidas.size(1))\n",
    "                if k > 1:\n",
    "                    _, topk_pred = salidas.topk(k, 1, True, True)\n",
    "                    correctos_top5 += topk_pred.eq(etiquetas.view(-1, 1).expand_as(topk_pred)).sum().item()\n",
    "                else:\n",
    "                    # Si solo hay 1 clase, Top-5 equivale a Top-1\n",
    "                    correctos_top5 += (predicciones == etiquetas).sum().item()\n",
    "        \n",
    "        # Calcular métricas de la época\n",
    "        loss_promedio_train = loss_epoch_train / len(loader_train)\n",
    "        loss_promedio_val = loss_epoch_val / len(loader_val)\n",
    "        precision_train = 100.0 * correctos_train / total_train\n",
    "        precision_val = 100.0 * correctos_val / total_val\n",
    "        precision_top5 = 100.0 * correctos_top5 / total_val\n",
    "        \n",
    "        tiempo_epoca = time.time() - inicio_epoca\n",
    "        \n",
    "        # Guardar métricas\n",
    "        historial['loss_entrenamiento'].append(loss_promedio_train)\n",
    "        historial['loss_validacion'].append(loss_promedio_val)\n",
    "        historial['precision_entrenamiento'].append(precision_train)\n",
    "        historial['precision_validacion'].append(precision_val)\n",
    "        historial['precision_top5_validacion'].append(precision_top5)\n",
    "        historial['tiempos_epoca'].append(tiempo_epoca)\n",
    "        \n",
    "        # Actualizar mejor modelo\n",
    "        if precision_val > mejor_precision:\n",
    "            mejor_precision = precision_val\n",
    "        \n",
    "        # Mostrar resultados de la época\n",
    "        print(f\"Entrenamiento - Loss: {loss_promedio_train:.4f}, Precisión: {precision_train:.2f}%\")\n",
    "        print(f\"Validación   - Loss: {loss_promedio_val:.4f}, Precisión: {precision_val:.2f}%, Top-5: {precision_top5:.2f}%\")\n",
    "        print(f\"Tiempo: {tiempo_epoca:.1f}s, LR: {scheduler.get_last_lr()[0]:.2e}\")\n",
    "        \n",
    "        # Limpiar caché de GPU\n",
    "        if dispositivo.type == 'cuda':\n",
    "            torch.cuda.empty_cache()\n",
    "        elif dispositivo.type == 'mps':\n",
    "            torch.mps.empty_cache()\n",
    "    \n",
    "    print(f\"\\n✅ Entrenamiento completado para {nombre_modelo}\")\n",
    "    print(f\"   Mejor precisión: {mejor_precision:.2f}%\")\n",
    "    \n",
    "    return historial, mejor_precision\n",
    "\n",
    "print(\"📈 Función de entrenamiento definida\")"
   ]
  },
  {
   "cell_type": "code",
   "execution_count": 8,
   "metadata": {},
   "outputs": [
    {
     "name": "stdout",
     "output_type": "stream",
     "text": [
      "📁 Directorio de checkpoints: checkpoints_modelos\n",
      "💾 Sistema de almacenamiento inicializado\n"
     ]
    }
   ],
   "source": [
    "# Crear directorio para guardar checkpoints\n",
    "directorio_checkpoints = Path('./checkpoints_modelos')\n",
    "directorio_checkpoints.mkdir(exist_ok=True)\n",
    "\n",
    "# Inicializar almacenamiento de resultados\n",
    "resultados_modelos = {}\n",
    "historiales_entrenamiento = {}\n",
    "checkpoints_guardados = {}\n",
    "\n",
    "print(f\"📁 Directorio de checkpoints: {directorio_checkpoints}\")\n",
    "print(\"💾 Sistema de almacenamiento inicializado\")"
   ]
  },
  {
   "cell_type": "markdown",
   "metadata": {},
   "source": [
    "## 3. Entrenamiento ResNet-18"
   ]
  },
  {
   "cell_type": "code",
   "execution_count": 9,
   "metadata": {},
   "outputs": [
    {
     "name": "stdout",
     "output_type": "stream",
     "text": [
      "🏗️ Preparando ResNet-18 (fine-tuning layer4 + fc)\n",
      "   - Tamaño de entrada: 224x224\n",
      "   - Batch size: 32\n",
      "🔌 Moviendo modelo a mps...\n",
      "✅ Modelo en mps (t=0.0s)\n",
      "✅ ResNet-18 preparado con 11,227,812 parámetros (entrenables: 8,445,028)\n",
      "🔌 Moviendo modelo a mps...\n",
      "✅ Modelo en mps (t=0.0s)\n",
      "✅ ResNet-18 preparado con 11,227,812 parámetros (entrenables: 8,445,028)\n"
     ]
    }
   ],
   "source": [
    "# Configuración ResNet-18\n",
    "nombre_modelo = 'resnet18'\n",
    "config = configuraciones_modelos[nombre_modelo]\n",
    "\n",
    "print(f\"🏗️ Preparando {config['nombre_mostrar']} (fine-tuning layer4 + fc)\")\n",
    "print(f\"   - Tamaño de entrada: {config['tamaño_entrada']}x{config['tamaño_entrada']}\")\n",
    "print(f\"   - Batch size: {config['batch_size']}\")\n",
    "\n",
    "# Crear modelo con fine-tuning (descongelar layer4 + fc)\n",
    "modelo_resnet18 = crear_resnet_finetuning(\n",
    "    config['nombre_timm'],\n",
    "    num_classes=num_clases\n",
    ")\n",
    "modelo_resnet18 = mover_modelo_seguro(modelo_resnet18, dispositivo)\n",
    "\n",
    "# Crear dataloaders específicos\n",
    "loader_train_resnet18, loader_val_resnet18 = crear_dataloaders(\n",
    "    datos_entrenamiento, \n",
    "    datos_validacion, \n",
    "    config['batch_size'], \n",
    "    config['tamaño_entrada']\n",
    ")\n",
    "\n",
    "# Contar parámetros entrenables\n",
    "entrenables = sum(p.numel() for p in modelo_resnet18.parameters() if p.requires_grad)\n",
    "print(f\"✅ {config['nombre_mostrar']} preparado con {sum(p.numel() for p in modelo_resnet18.parameters()):,} parámetros (entrenables: {entrenables:,})\")"
   ]
  },
  {
   "cell_type": "code",
   "execution_count": 10,
   "metadata": {},
   "outputs": [
    {
     "name": "stdout",
     "output_type": "stream",
     "text": [
      "\n",
      "🚀 Iniciando entrenamiento de ResNet-18\n",
      "   - Épocas: 10\n",
      "   - Dispositivo: mps\n",
      "   - Lotes de entrenamiento: 250\n",
      "   - Lotes de validación: 16\n",
      "\n",
      "Época 1/10\n",
      "--------------------------------------------------\n"
     ]
    },
    {
     "name": "stderr",
     "output_type": "stream",
     "text": [
      "                                                                                        \r"
     ]
    },
    {
     "name": "stdout",
     "output_type": "stream",
     "text": [
      "Entrenamiento - Loss: 4.5987, Precisión: 1.61%\n",
      "Validación   - Loss: 4.5312, Precisión: 3.50%, Top-5: 13.10%\n",
      "Tiempo: 71.4s, LR: 2.81e-04\n",
      "\n",
      "Época 2/10\n",
      "--------------------------------------------------\n"
     ]
    },
    {
     "name": "stderr",
     "output_type": "stream",
     "text": [
      "                                                                                        \r"
     ]
    },
    {
     "name": "stdout",
     "output_type": "stream",
     "text": [
      "Entrenamiento - Loss: 4.1195, Precisión: 8.60%\n",
      "Validación   - Loss: 3.3224, Precisión: 18.40%, Top-5: 47.10%\n",
      "Tiempo: 71.6s, LR: 7.61e-04\n",
      "\n",
      "Época 3/10\n",
      "--------------------------------------------------\n"
     ]
    },
    {
     "name": "stderr",
     "output_type": "stream",
     "text": [
      "                                                                                         \r"
     ]
    },
    {
     "name": "stdout",
     "output_type": "stream",
     "text": [
      "Entrenamiento - Loss: 2.9021, Precisión: 25.30%\n",
      "Validación   - Loss: 2.3298, Precisión: 34.10%, Top-5: 69.80%\n",
      "Tiempo: 71.2s, LR: 1.00e-03\n",
      "\n",
      "Época 4/10\n",
      "--------------------------------------------------\n"
     ]
    },
    {
     "name": "stderr",
     "output_type": "stream",
     "text": [
      "                                                                                         \r"
     ]
    },
    {
     "name": "stdout",
     "output_type": "stream",
     "text": [
      "Entrenamiento - Loss: 2.1902, Precisión: 38.96%\n",
      "Validación   - Loss: 1.8625, Precisión: 45.10%, Top-5: 79.80%\n",
      "Tiempo: 71.9s, LR: 9.50e-04\n",
      "\n",
      "Época 5/10\n",
      "--------------------------------------------------\n"
     ]
    },
    {
     "name": "stderr",
     "output_type": "stream",
     "text": [
      "                                                                                         \r"
     ]
    },
    {
     "name": "stdout",
     "output_type": "stream",
     "text": [
      "Entrenamiento - Loss: 1.7871, Precisión: 47.92%\n",
      "Validación   - Loss: 1.6127, Precisión: 52.80%, Top-5: 82.80%\n",
      "Tiempo: 71.9s, LR: 8.11e-04\n",
      "\n",
      "Época 6/10\n",
      "--------------------------------------------------\n"
     ]
    },
    {
     "name": "stderr",
     "output_type": "stream",
     "text": [
      "                                                                                         \r"
     ]
    },
    {
     "name": "stdout",
     "output_type": "stream",
     "text": [
      "Entrenamiento - Loss: 1.5226, Precisión: 55.44%\n",
      "Validación   - Loss: 1.4519, Precisión: 56.20%, Top-5: 86.90%\n",
      "Tiempo: 71.2s, LR: 6.10e-04\n",
      "\n",
      "Época 7/10\n",
      "--------------------------------------------------\n"
     ]
    },
    {
     "name": "stderr",
     "output_type": "stream",
     "text": [
      "                                                                                         \r"
     ]
    },
    {
     "name": "stdout",
     "output_type": "stream",
     "text": [
      "Entrenamiento - Loss: 1.3234, Precisión: 61.20%\n",
      "Validación   - Loss: 1.3498, Precisión: 58.20%, Top-5: 87.50%\n",
      "Tiempo: 71.2s, LR: 3.88e-04\n",
      "\n",
      "Época 8/10\n",
      "--------------------------------------------------\n"
     ]
    },
    {
     "name": "stderr",
     "output_type": "stream",
     "text": [
      "                                                                                         \r"
     ]
    },
    {
     "name": "stdout",
     "output_type": "stream",
     "text": [
      "Entrenamiento - Loss: 1.1828, Precisión: 65.59%\n",
      "Validación   - Loss: 1.3136, Precisión: 60.50%, Top-5: 87.50%\n",
      "Tiempo: 71.2s, LR: 1.88e-04\n",
      "\n",
      "Época 9/10\n",
      "--------------------------------------------------\n"
     ]
    },
    {
     "name": "stderr",
     "output_type": "stream",
     "text": [
      "                                                                                         \r"
     ]
    },
    {
     "name": "stdout",
     "output_type": "stream",
     "text": [
      "Entrenamiento - Loss: 1.1039, Precisión: 68.46%\n",
      "Validación   - Loss: 1.2793, Precisión: 62.20%, Top-5: 88.60%\n",
      "Tiempo: 71.4s, LR: 4.91e-05\n",
      "\n",
      "Época 10/10\n",
      "--------------------------------------------------\n"
     ]
    },
    {
     "name": "stderr",
     "output_type": "stream",
     "text": [
      "                                                                                         "
     ]
    },
    {
     "name": "stdout",
     "output_type": "stream",
     "text": [
      "Entrenamiento - Loss: 1.0716, Precisión: 69.65%\n",
      "Validación   - Loss: 1.2706, Precisión: 62.20%, Top-5: 88.30%\n",
      "Tiempo: 71.2s, LR: 4.81e-09\n",
      "\n",
      "✅ Entrenamiento completado para ResNet-18\n",
      "   Mejor precisión: 62.20%\n",
      "\n",
      "💾 Checkpoint guardado: checkpoints_modelos/resnet18_mejor.pth\n",
      "⏱️ Tiempo total: 714.1s\n"
     ]
    },
    {
     "name": "stderr",
     "output_type": "stream",
     "text": [
      "\r"
     ]
    }
   ],
   "source": [
    "# Entrenar ResNet-18\n",
    "inicio_total = time.time()\n",
    "\n",
    "historial_resnet18, mejor_precision_resnet18 = entrenar_modelo(\n",
    "    modelo_resnet18,\n",
    "    loader_train_resnet18,\n",
    "    loader_val_resnet18,\n",
    "    config['nombre_mostrar'],\n",
    "    epocas=10\n",
    ")\n",
    "\n",
    "tiempo_total_resnet18 = time.time() - inicio_total\n",
    "\n",
    "# Guardar checkpoint\n",
    "checkpoint_path = directorio_checkpoints / f\"{nombre_modelo}_mejor.pth\"\n",
    "torch.save({\n",
    "    'modelo_state_dict': modelo_resnet18.state_dict(),\n",
    "    'configuracion': config,\n",
    "    'mejor_precision': mejor_precision_resnet18,\n",
    "    'historial': historial_resnet18,\n",
    "    'num_clases': num_clases\n",
    "}, checkpoint_path)\n",
    "\n",
    "# Almacenar resultados\n",
    "resultados_modelos[nombre_modelo] = {\n",
    "    'nombre': config['nombre_mostrar'],\n",
    "    'precision_final': historial_resnet18['precision_validacion'][-1],\n",
    "    'precision_top5_final': historial_resnet18['precision_top5_validacion'][-1],\n",
    "    'mejor_precision': mejor_precision_resnet18,\n",
    "    'tiempo_total': tiempo_total_resnet18,\n",
    "    'familia': config['familia']\n",
    "}\n",
    "\n",
    "historiales_entrenamiento[nombre_modelo] = historial_resnet18\n",
    "checkpoints_guardados[nombre_modelo] = str(checkpoint_path)\n",
    "\n",
    "print(f\"\\n💾 Checkpoint guardado: {checkpoint_path}\")\n",
    "print(f\"⏱️ Tiempo total: {tiempo_total_resnet18:.1f}s\")"
   ]
  },
  {
   "cell_type": "markdown",
   "metadata": {},
   "source": [
    "## 4. Entrenamiento ResNet-34"
   ]
  },
  {
   "cell_type": "code",
   "execution_count": 18,
   "metadata": {},
   "outputs": [
    {
     "name": "stdout",
     "output_type": "stream",
     "text": [
      "🏗️ Preparando ResNet-34 (fine-tuning layer4 + fc)\n",
      "   - Tamaño de entrada: 224x224\n",
      "   - Batch size: 32\n",
      "🔌 Moviendo modelo a mps...\n",
      "✅ Modelo en mps (t=0.1s)\n",
      "✅ ResNet-34 preparado con 21,335,972 parámetros (entrenables: 13,165,668)\n",
      "🔌 Moviendo modelo a mps...\n",
      "✅ Modelo en mps (t=0.1s)\n",
      "✅ ResNet-34 preparado con 21,335,972 parámetros (entrenables: 13,165,668)\n"
     ]
    }
   ],
   "source": [
    "# Configuración ResNet-34\n",
    "nombre_modelo = 'resnet34'\n",
    "config = configuraciones_modelos[nombre_modelo]\n",
    "\n",
    "print(f\"🏗️ Preparando {config['nombre_mostrar']} (fine-tuning layer4 + fc)\")\n",
    "print(f\"   - Tamaño de entrada: {config['tamaño_entrada']}x{config['tamaño_entrada']}\")\n",
    "print(f\"   - Batch size: {config['batch_size']}\")\n",
    "\n",
    "# Crear modelo con fine-tuning (descongelar layer4 + fc)\n",
    "modelo_resnet34 = crear_resnet_finetuning(\n",
    "    config['nombre_timm'],\n",
    "    num_classes=num_clases\n",
    ")\n",
    "modelo_resnet34 = mover_modelo_seguro(modelo_resnet34, dispositivo)\n",
    "\n",
    "# Crear dataloaders específicos\n",
    "loader_train_resnet34, loader_val_resnet34 = crear_dataloaders(\n",
    "    datos_entrenamiento, \n",
    "    datos_validacion, \n",
    "    config['batch_size'], \n",
    "    config['tamaño_entrada']\n",
    ")\n",
    "\n",
    "# Contar parámetros entrenables\n",
    "entrenables = sum(p.numel() for p in modelo_resnet34.parameters() if p.requires_grad)\n",
    "print(f\"✅ {config['nombre_mostrar']} preparado con {sum(p.numel() for p in modelo_resnet34.parameters()):,} parámetros (entrenables: {entrenables:,})\")"
   ]
  },
  {
   "cell_type": "code",
   "execution_count": 19,
   "metadata": {},
   "outputs": [
    {
     "name": "stdout",
     "output_type": "stream",
     "text": [
      "\n",
      "🚀 Iniciando entrenamiento de ResNet-34\n",
      "   - Épocas: 10\n",
      "   - Dispositivo: mps\n",
      "   - Lotes de entrenamiento: 250\n",
      "   - Lotes de validación: 16\n",
      "\n",
      "Época 1/10\n",
      "--------------------------------------------------\n"
     ]
    },
    {
     "name": "stderr",
     "output_type": "stream",
     "text": [
      "                                                                                        "
     ]
    },
    {
     "name": "stdout",
     "output_type": "stream",
     "text": [
      "Entrenamiento - Loss: 4.6044, Precisión: 1.21%\n",
      "Validación   - Loss: 4.5600, Precisión: 2.50%, Top-5: 10.30%\n",
      "Tiempo: 87.1s, LR: 2.81e-04\n",
      "\n",
      "Época 2/10\n",
      "--------------------------------------------------\n"
     ]
    },
    {
     "name": "stderr",
     "output_type": "stream",
     "text": [
      "                                                                                        "
     ]
    },
    {
     "name": "stdout",
     "output_type": "stream",
     "text": [
      "Entrenamiento - Loss: 4.2364, Precisión: 6.35%\n",
      "Validación   - Loss: 3.3903, Precisión: 15.00%, Top-5: 43.30%\n",
      "Tiempo: 87.4s, LR: 7.61e-04\n",
      "\n",
      "Época 3/10\n",
      "--------------------------------------------------\n"
     ]
    },
    {
     "name": "stderr",
     "output_type": "stream",
     "text": [
      "                                                                                         "
     ]
    },
    {
     "name": "stdout",
     "output_type": "stream",
     "text": [
      "Entrenamiento - Loss: 2.9434, Precisión: 22.43%\n",
      "Validación   - Loss: 2.3258, Precisión: 31.30%, Top-5: 70.70%\n",
      "Tiempo: 86.5s, LR: 1.00e-03\n",
      "\n",
      "Época 4/10\n",
      "--------------------------------------------------\n"
     ]
    },
    {
     "name": "stderr",
     "output_type": "stream",
     "text": [
      "                                                                                         "
     ]
    },
    {
     "name": "stdout",
     "output_type": "stream",
     "text": [
      "Entrenamiento - Loss: 2.2586, Precisión: 35.74%\n",
      "Validación   - Loss: 1.8677, Precisión: 44.60%, Top-5: 80.20%\n",
      "Tiempo: 86.7s, LR: 9.50e-04\n",
      "\n",
      "Época 5/10\n",
      "--------------------------------------------------\n"
     ]
    },
    {
     "name": "stderr",
     "output_type": "stream",
     "text": [
      "                                                                                         "
     ]
    },
    {
     "name": "stdout",
     "output_type": "stream",
     "text": [
      "Entrenamiento - Loss: 1.8867, Precisión: 44.24%\n",
      "Validación   - Loss: 1.6348, Precisión: 49.60%, Top-5: 83.60%\n",
      "Tiempo: 86.2s, LR: 8.11e-04\n",
      "\n",
      "Época 6/10\n",
      "--------------------------------------------------\n"
     ]
    },
    {
     "name": "stderr",
     "output_type": "stream",
     "text": [
      "                                                                                         "
     ]
    },
    {
     "name": "stdout",
     "output_type": "stream",
     "text": [
      "Entrenamiento - Loss: 1.6107, Precisión: 51.60%\n",
      "Validación   - Loss: 1.4844, Precisión: 53.90%, Top-5: 86.70%\n",
      "Tiempo: 86.1s, LR: 6.10e-04\n",
      "\n",
      "Época 7/10\n",
      "--------------------------------------------------\n"
     ]
    },
    {
     "name": "stderr",
     "output_type": "stream",
     "text": [
      "                                                                                         "
     ]
    },
    {
     "name": "stdout",
     "output_type": "stream",
     "text": [
      "Entrenamiento - Loss: 1.4160, Precisión: 57.60%\n",
      "Validación   - Loss: 1.3560, Precisión: 57.20%, Top-5: 87.40%\n",
      "Tiempo: 86.4s, LR: 3.88e-04\n",
      "\n",
      "Época 8/10\n",
      "--------------------------------------------------\n"
     ]
    },
    {
     "name": "stderr",
     "output_type": "stream",
     "text": [
      "                                                                                         "
     ]
    },
    {
     "name": "stdout",
     "output_type": "stream",
     "text": [
      "Entrenamiento - Loss: 1.2725, Precisión: 61.49%\n",
      "Validación   - Loss: 1.3180, Precisión: 59.20%, Top-5: 88.20%\n",
      "Tiempo: 86.1s, LR: 1.88e-04\n",
      "\n",
      "Época 9/10\n",
      "--------------------------------------------------\n"
     ]
    },
    {
     "name": "stderr",
     "output_type": "stream",
     "text": [
      "                                                                                         "
     ]
    },
    {
     "name": "stdout",
     "output_type": "stream",
     "text": [
      "Entrenamiento - Loss: 1.1828, Precisión: 64.00%\n",
      "Validación   - Loss: 1.2861, Precisión: 59.30%, Top-5: 89.30%\n",
      "Tiempo: 90.2s, LR: 4.91e-05\n",
      "\n",
      "Época 10/10\n",
      "--------------------------------------------------\n"
     ]
    },
    {
     "name": "stderr",
     "output_type": "stream",
     "text": [
      "                                                                                         "
     ]
    },
    {
     "name": "stdout",
     "output_type": "stream",
     "text": [
      "Entrenamiento - Loss: 1.1417, Precisión: 65.94%\n",
      "Validación   - Loss: 1.2689, Precisión: 60.60%, Top-5: 89.50%\n",
      "Tiempo: 87.2s, LR: 4.81e-09\n",
      "\n",
      "✅ Entrenamiento completado para ResNet-34\n",
      "   Mejor precisión: 60.60%\n",
      "\n",
      "💾 Checkpoint guardado: checkpoints_modelos/resnet34_mejor.pth\n",
      "⏱️ Tiempo total: 870.3s\n",
      "\n",
      "💾 Checkpoint guardado: checkpoints_modelos/resnet34_mejor.pth\n",
      "⏱️ Tiempo total: 870.3s\n"
     ]
    }
   ],
   "source": [
    "# Entrenar ResNet-34\n",
    "inicio_total = time.time()\n",
    "\n",
    "historial_resnet34, mejor_precision_resnet34 = entrenar_modelo(\n",
    "    modelo_resnet34,\n",
    "    loader_train_resnet34,\n",
    "    loader_val_resnet34,\n",
    "    config['nombre_mostrar'],\n",
    "    epocas=10\n",
    ")\n",
    "\n",
    "tiempo_total_resnet34 = time.time() - inicio_total\n",
    "\n",
    "# Guardar checkpoint\n",
    "checkpoint_path = directorio_checkpoints / f\"{nombre_modelo}_mejor.pth\"\n",
    "torch.save({\n",
    "    'modelo_state_dict': modelo_resnet34.state_dict(),\n",
    "    'configuracion': config,\n",
    "    'mejor_precision': mejor_precision_resnet34,\n",
    "    'historial': historial_resnet34,\n",
    "    'num_clases': num_clases\n",
    "}, checkpoint_path)\n",
    "\n",
    "# Almacenar resultados\n",
    "resultados_modelos[nombre_modelo] = {\n",
    "    'nombre': config['nombre_mostrar'],\n",
    "    'precision_final': historial_resnet34['precision_validacion'][-1],\n",
    "    'precision_top5_final': historial_resnet34['precision_top5_validacion'][-1],\n",
    "    'mejor_precision': mejor_precision_resnet34,\n",
    "    'tiempo_total': tiempo_total_resnet34,\n",
    "    'familia': config['familia']\n",
    "}\n",
    "\n",
    "historiales_entrenamiento[nombre_modelo] = historial_resnet34\n",
    "checkpoints_guardados[nombre_modelo] = str(checkpoint_path)\n",
    "\n",
    "print(f\"\\n💾 Checkpoint guardado: {checkpoint_path}\")\n",
    "print(f\"⏱️ Tiempo total: {tiempo_total_resnet34:.1f}s\")"
   ]
  },
  {
   "cell_type": "markdown",
   "metadata": {},
   "source": [
    "## 5. Entrenamiento ResNet-50"
   ]
  },
  {
   "cell_type": "code",
   "execution_count": 20,
   "metadata": {},
   "outputs": [
    {
     "name": "stdout",
     "output_type": "stream",
     "text": [
      "🏗️ Preparando ResNet-50 (fine-tuning layer4 + fc)\n",
      "   - Tamaño de entrada: 224x224\n",
      "   - Batch size: 24\n",
      "🔌 Moviendo modelo a mps...\n",
      "✅ Modelo en mps (t=0.1s)\n",
      "✅ ResNet-50 preparado con 23,712,932 parámetros (entrenables: 15,169,636)\n",
      "🔌 Moviendo modelo a mps...\n",
      "✅ Modelo en mps (t=0.1s)\n",
      "✅ ResNet-50 preparado con 23,712,932 parámetros (entrenables: 15,169,636)\n"
     ]
    }
   ],
   "source": [
    "# Configuración ResNet-50\n",
    "nombre_modelo = 'resnet50'\n",
    "config = configuraciones_modelos[nombre_modelo]\n",
    "\n",
    "print(f\"🏗️ Preparando {config['nombre_mostrar']} (fine-tuning layer4 + fc)\")\n",
    "print(f\"   - Tamaño de entrada: {config['tamaño_entrada']}x{config['tamaño_entrada']}\")\n",
    "print(f\"   - Batch size: {config['batch_size']}\")\n",
    "\n",
    "# Crear modelo con fine-tuning (descongelar layer4 + fc)\n",
    "modelo_resnet50 = crear_resnet_finetuning(\n",
    "    config['nombre_timm'],\n",
    "    num_classes=num_clases\n",
    ")\n",
    "modelo_resnet50 = mover_modelo_seguro(modelo_resnet50, dispositivo)\n",
    "\n",
    "# Crear dataloaders específicos\n",
    "loader_train_resnet50, loader_val_resnet50 = crear_dataloaders(\n",
    "    datos_entrenamiento, \n",
    "    datos_validacion, \n",
    "    config['batch_size'], \n",
    "    config['tamaño_entrada']\n",
    ")\n",
    "\n",
    "# Contar parámetros entrenables\n",
    "entrenables = sum(p.numel() for p in modelo_resnet50.parameters() if p.requires_grad)\n",
    "print(f\"✅ {config['nombre_mostrar']} preparado con {sum(p.numel() for p in modelo_resnet50.parameters()):,} parámetros (entrenables: {entrenables:,})\")"
   ]
  },
  {
   "cell_type": "code",
   "execution_count": 21,
   "metadata": {},
   "outputs": [
    {
     "name": "stdout",
     "output_type": "stream",
     "text": [
      "\n",
      "🚀 Iniciando entrenamiento de ResNet-50\n",
      "   - Épocas: 10\n",
      "   - Dispositivo: mps\n",
      "   - Lotes de entrenamiento: 334\n",
      "   - Lotes de validación: 21\n",
      "\n",
      "Época 1/10\n",
      "--------------------------------------------------\n"
     ]
    },
    {
     "name": "stderr",
     "output_type": "stream",
     "text": [
      "                                                                                        \r"
     ]
    },
    {
     "name": "stdout",
     "output_type": "stream",
     "text": [
      "Entrenamiento - Loss: 4.5888, Precisión: 1.75%\n",
      "Validación   - Loss: 4.4735, Precisión: 5.00%, Top-5: 17.40%\n",
      "Tiempo: 128.9s, LR: 2.80e-04\n",
      "\n",
      "Época 2/10\n",
      "--------------------------------------------------\n"
     ]
    },
    {
     "name": "stderr",
     "output_type": "stream",
     "text": [
      "                                                                                         \r"
     ]
    },
    {
     "name": "stdout",
     "output_type": "stream",
     "text": [
      "Entrenamiento - Loss: 3.5995, Precisión: 13.41%\n",
      "Validación   - Loss: 2.7023, Precisión: 23.90%, Top-5: 58.30%\n",
      "Tiempo: 126.8s, LR: 7.61e-04\n",
      "\n",
      "Época 3/10\n",
      "--------------------------------------------------\n"
     ]
    },
    {
     "name": "stderr",
     "output_type": "stream",
     "text": [
      "                                                                                         "
     ]
    },
    {
     "name": "stdout",
     "output_type": "stream",
     "text": [
      "Entrenamiento - Loss: 2.3653, Precisión: 33.84%\n",
      "Validación   - Loss: 1.8861, Precisión: 42.90%, Top-5: 79.00%\n",
      "Tiempo: 126.8s, LR: 1.00e-03\n",
      "\n",
      "Época 4/10\n",
      "--------------------------------------------------\n"
     ]
    },
    {
     "name": "stderr",
     "output_type": "stream",
     "text": [
      "                                                                                         \r"
     ]
    },
    {
     "name": "stdout",
     "output_type": "stream",
     "text": [
      "Entrenamiento - Loss: 1.7622, Precisión: 47.19%\n",
      "Validación   - Loss: 1.4900, Precisión: 54.30%, Top-5: 87.30%\n",
      "Tiempo: 126.9s, LR: 9.50e-04\n",
      "\n",
      "Época 5/10\n",
      "--------------------------------------------------\n"
     ]
    },
    {
     "name": "stderr",
     "output_type": "stream",
     "text": [
      "                                                                                         "
     ]
    },
    {
     "name": "stdout",
     "output_type": "stream",
     "text": [
      "Entrenamiento - Loss: 1.4089, Precisión: 56.26%\n",
      "Validación   - Loss: 1.2894, Precisión: 59.60%, Top-5: 89.50%\n",
      "Tiempo: 127.9s, LR: 8.11e-04\n",
      "\n",
      "Época 6/10\n",
      "--------------------------------------------------\n"
     ]
    },
    {
     "name": "stderr",
     "output_type": "stream",
     "text": [
      "                                                                                         \r"
     ]
    },
    {
     "name": "stdout",
     "output_type": "stream",
     "text": [
      "Entrenamiento - Loss: 1.1465, Precisión: 64.06%\n",
      "Validación   - Loss: 1.2172, Precisión: 63.10%, Top-5: 91.90%\n",
      "Tiempo: 127.2s, LR: 6.11e-04\n",
      "\n",
      "Época 7/10\n",
      "--------------------------------------------------\n"
     ]
    },
    {
     "name": "stderr",
     "output_type": "stream",
     "text": [
      "                                                                                         \r"
     ]
    },
    {
     "name": "stdout",
     "output_type": "stream",
     "text": [
      "Entrenamiento - Loss: 0.9510, Precisión: 70.12%\n",
      "Validación   - Loss: 1.0346, Precisión: 69.00%, Top-5: 92.60%\n",
      "Tiempo: 127.4s, LR: 3.88e-04\n",
      "\n",
      "Época 8/10\n",
      "--------------------------------------------------\n"
     ]
    },
    {
     "name": "stderr",
     "output_type": "stream",
     "text": [
      "                                                                                         \r"
     ]
    },
    {
     "name": "stdout",
     "output_type": "stream",
     "text": [
      "Entrenamiento - Loss: 0.8015, Precisión: 75.03%\n",
      "Validación   - Loss: 0.9955, Precisión: 69.80%, Top-5: 92.90%\n",
      "Tiempo: 126.9s, LR: 1.88e-04\n",
      "\n",
      "Época 9/10\n",
      "--------------------------------------------------\n"
     ]
    },
    {
     "name": "stderr",
     "output_type": "stream",
     "text": [
      "                                                                                         \r"
     ]
    },
    {
     "name": "stdout",
     "output_type": "stream",
     "text": [
      "Entrenamiento - Loss: 0.7005, Precisión: 77.97%\n",
      "Validación   - Loss: 1.0700, Precisión: 70.00%, Top-5: 93.20%\n",
      "Tiempo: 127.1s, LR: 4.92e-05\n",
      "\n",
      "Época 10/10\n",
      "--------------------------------------------------\n"
     ]
    },
    {
     "name": "stderr",
     "output_type": "stream",
     "text": [
      "                                                                                         "
     ]
    },
    {
     "name": "stdout",
     "output_type": "stream",
     "text": [
      "Entrenamiento - Loss: 0.6626, Precisión: 79.55%\n",
      "Validación   - Loss: 0.9906, Precisión: 70.40%, Top-5: 93.10%\n",
      "Tiempo: 127.2s, LR: 4.45e-09\n",
      "\n",
      "✅ Entrenamiento completado para ResNet-50\n",
      "   Mejor precisión: 70.40%\n",
      "\n",
      "💾 Checkpoint guardado: checkpoints_modelos/resnet50_mejor.pth\n",
      "⏱️ Tiempo total: 1273.1s\n",
      "\n",
      "💾 Checkpoint guardado: checkpoints_modelos/resnet50_mejor.pth\n",
      "⏱️ Tiempo total: 1273.1s\n"
     ]
    }
   ],
   "source": [
    "# Entrenar ResNet-50\n",
    "inicio_total = time.time()\n",
    "\n",
    "historial_resnet50, mejor_precision_resnet50 = entrenar_modelo(\n",
    "    modelo_resnet50,\n",
    "    loader_train_resnet50,\n",
    "    loader_val_resnet50,\n",
    "    config['nombre_mostrar'],\n",
    "    epocas=10\n",
    ")\n",
    "\n",
    "tiempo_total_resnet50 = time.time() - inicio_total\n",
    "\n",
    "# Guardar checkpoint\n",
    "checkpoint_path = directorio_checkpoints / f\"{nombre_modelo}_mejor.pth\"\n",
    "torch.save({\n",
    "    'modelo_state_dict': modelo_resnet50.state_dict(),\n",
    "    'configuracion': config,\n",
    "    'mejor_precision': mejor_precision_resnet50,\n",
    "    'historial': historial_resnet50,\n",
    "    'num_clases': num_clases\n",
    "}, checkpoint_path)\n",
    "\n",
    "# Almacenar resultados\n",
    "resultados_modelos[nombre_modelo] = {\n",
    "    'nombre': config['nombre_mostrar'],\n",
    "    'precision_final': historial_resnet50['precision_validacion'][-1],\n",
    "    'precision_top5_final': historial_resnet50['precision_top5_validacion'][-1],\n",
    "    'mejor_precision': mejor_precision_resnet50,\n",
    "    'tiempo_total': tiempo_total_resnet50,\n",
    "    'familia': config['familia']\n",
    "}\n",
    "\n",
    "historiales_entrenamiento[nombre_modelo] = historial_resnet50\n",
    "checkpoints_guardados[nombre_modelo] = str(checkpoint_path)\n",
    "\n",
    "print(f\"\\n💾 Checkpoint guardado: {checkpoint_path}\")\n",
    "print(f\"⏱️ Tiempo total: {tiempo_total_resnet50:.1f}s\")"
   ]
  },
  {
   "cell_type": "markdown",
   "metadata": {},
   "source": [
    "## 6. Entrenamiento EfficientNet-B0"
   ]
  },
  {
   "cell_type": "code",
   "execution_count": 22,
   "metadata": {},
   "outputs": [
    {
     "name": "stdout",
     "output_type": "stream",
     "text": [
      "🏗️ Preparando EfficientNet-B0\n",
      "   - Tamaño de entrada: 224x224\n",
      "   - Batch size: 32\n",
      "🔌 Moviendo modelo a mps...\n",
      "✅ Modelo en mps (t=0.1s)\n",
      "✅ EfficientNet-B0 preparado con 4,135,648 parámetros\n",
      "🔌 Moviendo modelo a mps...\n",
      "✅ Modelo en mps (t=0.1s)\n",
      "✅ EfficientNet-B0 preparado con 4,135,648 parámetros\n"
     ]
    }
   ],
   "source": [
    "# Configuración EfficientNet-B0\n",
    "nombre_modelo = 'efficientnet_b0'\n",
    "config = configuraciones_modelos[nombre_modelo]\n",
    "\n",
    "print(f\"🏗️ Preparando {config['nombre_mostrar']}\")\n",
    "print(f\"   - Tamaño de entrada: {config['tamaño_entrada']}x{config['tamaño_entrada']}\")\n",
    "print(f\"   - Batch size: {config['batch_size']}\")\n",
    "\n",
    "# Crear modelo\n",
    "modelo_efficientnet_b0 = timm.create_model(\n",
    "    config['nombre_timm'], \n",
    "    pretrained=True, \n",
    "    num_classes=num_clases\n",
    ")\n",
    "# Mover modelo al dispositivo con helper\n",
    "modelo_efficientnet_b0 = mover_modelo_seguro(modelo_efficientnet_b0, dispositivo)\n",
    "\n",
    "# Crear dataloaders específicos\n",
    "loader_train_effb0, loader_val_effb0 = crear_dataloaders(\n",
    "    datos_entrenamiento, \n",
    "    datos_validacion, \n",
    "    config['batch_size'], \n",
    "    config['tamaño_entrada']\n",
    ")\n",
    "\n",
    "print(f\"✅ {config['nombre_mostrar']} preparado con {sum(p.numel() for p in modelo_efficientnet_b0.parameters()):,} parámetros\")"
   ]
  },
  {
   "cell_type": "code",
   "execution_count": 23,
   "metadata": {},
   "outputs": [
    {
     "name": "stdout",
     "output_type": "stream",
     "text": [
      "\n",
      "🚀 Iniciando entrenamiento de EfficientNet-B0\n",
      "   - Épocas: 15\n",
      "   - Dispositivo: mps\n",
      "   - Lotes de entrenamiento: 250\n",
      "   - Lotes de validación: 16\n",
      "\n",
      "Época 1/15\n",
      "--------------------------------------------------\n"
     ]
    },
    {
     "name": "stderr",
     "output_type": "stream",
     "text": [
      "                                                                                        "
     ]
    },
    {
     "name": "stdout",
     "output_type": "stream",
     "text": [
      "Entrenamiento - Loss: 4.5266, Precisión: 3.95%\n",
      "Validación   - Loss: 3.8177, Precisión: 14.40%, Top-5: 34.30%\n",
      "Tiempo: 149.5s, LR: 1.52e-04\n",
      "\n",
      "Época 2/15\n",
      "--------------------------------------------------\n"
     ]
    },
    {
     "name": "stderr",
     "output_type": "stream",
     "text": [
      "                                                                                         "
     ]
    },
    {
     "name": "stdout",
     "output_type": "stream",
     "text": [
      "Entrenamiento - Loss: 2.6940, Precisión: 32.29%\n",
      "Validación   - Loss: 1.6980, Precisión: 51.20%, Top-5: 84.40%\n",
      "Tiempo: 148.9s, LR: 4.37e-04\n",
      "\n",
      "Época 3/15\n",
      "--------------------------------------------------\n"
     ]
    },
    {
     "name": "stderr",
     "output_type": "stream",
     "text": [
      "                                                                                         "
     ]
    },
    {
     "name": "stdout",
     "output_type": "stream",
     "text": [
      "Entrenamiento - Loss: 1.5039, Precisión: 55.09%\n",
      "Validación   - Loss: 1.4054, Precisión: 57.60%, Top-5: 89.60%\n",
      "Tiempo: 148.5s, LR: 7.61e-04\n",
      "\n",
      "Época 4/15\n",
      "--------------------------------------------------\n"
     ]
    },
    {
     "name": "stderr",
     "output_type": "stream",
     "text": [
      "                                                                                         "
     ]
    },
    {
     "name": "stdout",
     "output_type": "stream",
     "text": [
      "Entrenamiento - Loss: 1.2131, Precisión: 62.58%\n",
      "Validación   - Loss: 1.2380, Precisión: 62.70%, Top-5: 91.10%\n",
      "Tiempo: 148.2s, LR: 9.71e-04\n",
      "\n",
      "Época 5/15\n",
      "--------------------------------------------------\n"
     ]
    },
    {
     "name": "stderr",
     "output_type": "stream",
     "text": [
      "                                                                                         "
     ]
    },
    {
     "name": "stdout",
     "output_type": "stream",
     "text": [
      "Entrenamiento - Loss: 0.9656, Precisión: 69.66%\n",
      "Validación   - Loss: 0.9830, Precisión: 70.10%, Top-5: 93.20%\n",
      "Tiempo: 148.0s, LR: 9.94e-04\n",
      "\n",
      "Época 6/15\n",
      "--------------------------------------------------\n"
     ]
    },
    {
     "name": "stderr",
     "output_type": "stream",
     "text": [
      "                                                                                         "
     ]
    },
    {
     "name": "stdout",
     "output_type": "stream",
     "text": [
      "Entrenamiento - Loss: 0.7398, Precisión: 76.28%\n",
      "Validación   - Loss: 0.9308, Precisión: 71.20%, Top-5: 93.90%\n",
      "Tiempo: 148.0s, LR: 9.50e-04\n",
      "\n",
      "Época 7/15\n",
      "--------------------------------------------------\n"
     ]
    },
    {
     "name": "stderr",
     "output_type": "stream",
     "text": [
      "                                                                                         "
     ]
    },
    {
     "name": "stdout",
     "output_type": "stream",
     "text": [
      "Entrenamiento - Loss: 0.5597, Precisión: 81.45%\n",
      "Validación   - Loss: 0.9066, Precisión: 73.00%, Top-5: 94.60%\n",
      "Tiempo: 148.4s, LR: 8.66e-04\n",
      "\n",
      "Época 8/15\n",
      "--------------------------------------------------\n"
     ]
    },
    {
     "name": "stderr",
     "output_type": "stream",
     "text": [
      "                                                                                         "
     ]
    },
    {
     "name": "stdout",
     "output_type": "stream",
     "text": [
      "Entrenamiento - Loss: 0.4289, Precisión: 85.61%\n",
      "Validación   - Loss: 0.9219, Precisión: 74.90%, Top-5: 94.30%\n",
      "Tiempo: 147.9s, LR: 7.49e-04\n",
      "\n",
      "Época 9/15\n",
      "--------------------------------------------------\n"
     ]
    },
    {
     "name": "stderr",
     "output_type": "stream",
     "text": [
      "                                                                                         "
     ]
    },
    {
     "name": "stdout",
     "output_type": "stream",
     "text": [
      "Entrenamiento - Loss: 0.3061, Precisión: 89.56%\n",
      "Validación   - Loss: 0.9206, Precisión: 75.80%, Top-5: 94.20%\n",
      "Tiempo: 147.9s, LR: 6.11e-04\n",
      "\n",
      "Época 10/15\n",
      "--------------------------------------------------\n"
     ]
    },
    {
     "name": "stderr",
     "output_type": "stream",
     "text": [
      "                                                                                         "
     ]
    },
    {
     "name": "stdout",
     "output_type": "stream",
     "text": [
      "Entrenamiento - Loss: 0.2067, Precisión: 93.14%\n",
      "Validación   - Loss: 0.8284, Precisión: 79.60%, Top-5: 94.80%\n",
      "Tiempo: 147.9s, LR: 4.62e-04\n",
      "\n",
      "Época 11/15\n",
      "--------------------------------------------------\n"
     ]
    },
    {
     "name": "stderr",
     "output_type": "stream",
     "text": [
      "                                                                                         "
     ]
    },
    {
     "name": "stdout",
     "output_type": "stream",
     "text": [
      "Entrenamiento - Loss: 0.1345, Precisión: 95.88%\n",
      "Validación   - Loss: 0.7851, Precisión: 81.60%, Top-5: 95.00%\n",
      "Tiempo: 148.3s, LR: 3.17e-04\n",
      "\n",
      "Época 12/15\n",
      "--------------------------------------------------\n"
     ]
    },
    {
     "name": "stderr",
     "output_type": "stream",
     "text": [
      "                                                                                         "
     ]
    },
    {
     "name": "stdout",
     "output_type": "stream",
     "text": [
      "Entrenamiento - Loss: 0.0838, Precisión: 97.51%\n",
      "Validación   - Loss: 0.7459, Precisión: 82.90%, Top-5: 95.70%\n",
      "Tiempo: 148.1s, LR: 1.88e-04\n",
      "\n",
      "Época 13/15\n",
      "--------------------------------------------------\n"
     ]
    },
    {
     "name": "stderr",
     "output_type": "stream",
     "text": [
      "                                                                                         "
     ]
    },
    {
     "name": "stdout",
     "output_type": "stream",
     "text": [
      "Entrenamiento - Loss: 0.0625, Precisión: 98.14%\n",
      "Validación   - Loss: 0.7551, Precisión: 82.50%, Top-5: 95.30%\n",
      "Tiempo: 148.0s, LR: 8.65e-05\n",
      "\n",
      "Época 14/15\n",
      "--------------------------------------------------\n"
     ]
    },
    {
     "name": "stderr",
     "output_type": "stream",
     "text": [
      "                                                                                         "
     ]
    },
    {
     "name": "stdout",
     "output_type": "stream",
     "text": [
      "Entrenamiento - Loss: 0.0465, Precisión: 98.85%\n",
      "Validación   - Loss: 0.7530, Precisión: 81.90%, Top-5: 95.60%\n",
      "Tiempo: 147.8s, LR: 2.20e-05\n",
      "\n",
      "Época 15/15\n",
      "--------------------------------------------------\n"
     ]
    },
    {
     "name": "stderr",
     "output_type": "stream",
     "text": [
      "                                                                                         "
     ]
    },
    {
     "name": "stdout",
     "output_type": "stream",
     "text": [
      "Entrenamiento - Loss: 0.0414, Precisión: 98.95%\n",
      "Validación   - Loss: 0.7592, Precisión: 81.70%, Top-5: 95.40%\n",
      "Tiempo: 148.4s, LR: 4.36e-09\n",
      "\n",
      "✅ Entrenamiento completado para EfficientNet-B0\n",
      "   Mejor precisión: 82.90%\n",
      "\n",
      "💾 Checkpoint guardado: checkpoints_modelos/efficientnet_b0_mejor.pth\n",
      "⏱️ Tiempo total: 2224.5s\n"
     ]
    },
    {
     "name": "stderr",
     "output_type": "stream",
     "text": [
      "\r"
     ]
    }
   ],
   "source": [
    "# Entrenar EfficientNet-B0\n",
    "inicio_total = time.time()\n",
    "\n",
    "historial_efficientnet_b0, mejor_precision_efficientnet_b0 = entrenar_modelo(\n",
    "    modelo_efficientnet_b0,\n",
    "    loader_train_effb0,\n",
    "    loader_val_effb0,\n",
    "    config['nombre_mostrar'],\n",
    "    epocas=15\n",
    ")\n",
    "\n",
    "tiempo_total_efficientnet_b0 = time.time() - inicio_total\n",
    "\n",
    "# Guardar checkpoint\n",
    "checkpoint_path = directorio_checkpoints / f\"{nombre_modelo}_mejor.pth\"\n",
    "torch.save({\n",
    "    'modelo_state_dict': modelo_efficientnet_b0.state_dict(),\n",
    "    'configuracion': config,\n",
    "    'mejor_precision': mejor_precision_efficientnet_b0,\n",
    "    'historial': historial_efficientnet_b0,\n",
    "    'num_clases': num_clases\n",
    "}, checkpoint_path)\n",
    "\n",
    "# Almacenar resultados\n",
    "resultados_modelos[nombre_modelo] = {\n",
    "    'nombre': config['nombre_mostrar'],\n",
    "    'precision_final': historial_efficientnet_b0['precision_validacion'][-1],\n",
    "    'precision_top5_final': historial_efficientnet_b0['precision_top5_validacion'][-1],\n",
    "    'mejor_precision': mejor_precision_efficientnet_b0,\n",
    "    'tiempo_total': tiempo_total_efficientnet_b0,\n",
    "    'familia': config['familia']\n",
    "}\n",
    "\n",
    "historiales_entrenamiento[nombre_modelo] = historial_efficientnet_b0\n",
    "checkpoints_guardados[nombre_modelo] = str(checkpoint_path)\n",
    "\n",
    "print(f\"\\n💾 Checkpoint guardado: {checkpoint_path}\")\n",
    "print(f\"⏱️ Tiempo total: {tiempo_total_efficientnet_b0:.1f}s\")"
   ]
  },
  {
   "cell_type": "markdown",
   "metadata": {},
   "source": [
    "## 7. Entrenamiento EfficientNet-B1"
   ]
  },
  {
   "cell_type": "code",
   "execution_count": 24,
   "metadata": {},
   "outputs": [
    {
     "name": "stdout",
     "output_type": "stream",
     "text": [
      "🏗️ Preparando EfficientNet-B1\n",
      "   - Tamaño de entrada: 240x240\n",
      "   - Batch size: 28\n"
     ]
    },
    {
     "name": "stdout",
     "output_type": "stream",
     "text": [
      "🔌 Moviendo modelo a mps...\n",
      "✅ Modelo en mps (t=0.1s)\n",
      "✅ EfficientNet-B1 preparado con 6,641,284 parámetros\n"
     ]
    }
   ],
   "source": [
    "# Configuración EfficientNet-B1\n",
    "nombre_modelo = 'efficientnet_b1'\n",
    "config = configuraciones_modelos[nombre_modelo]\n",
    "\n",
    "print(f\"🏗️ Preparando {config['nombre_mostrar']}\")\n",
    "print(f\"   - Tamaño de entrada: {config['tamaño_entrada']}x{config['tamaño_entrada']}\")\n",
    "print(f\"   - Batch size: {config['batch_size']}\")\n",
    "\n",
    "# Crear modelo\n",
    "modelo_efficientnet_b1 = timm.create_model(\n",
    "    config['nombre_timm'], \n",
    "    pretrained=True, \n",
    "    num_classes=num_clases\n",
    ")\n",
    "modelo_efficientnet_b1 = mover_modelo_seguro(modelo_efficientnet_b1, dispositivo)\n",
    "\n",
    "# Crear dataloaders específicos\n",
    "loader_train_effb1, loader_val_effb1 = crear_dataloaders(\n",
    "    datos_entrenamiento, \n",
    "    datos_validacion, \n",
    "    config['batch_size'], \n",
    "    config['tamaño_entrada']\n",
    ")\n",
    "\n",
    "print(f\"✅ {config['nombre_mostrar']} preparado con {sum(p.numel() for p in modelo_efficientnet_b1.parameters()):,} parámetros\")"
   ]
  },
  {
   "cell_type": "code",
   "execution_count": 25,
   "metadata": {},
   "outputs": [
    {
     "name": "stdout",
     "output_type": "stream",
     "text": [
      "\n",
      "🚀 Iniciando entrenamiento de EfficientNet-B1\n",
      "   - Épocas: 15\n",
      "   - Dispositivo: mps\n",
      "   - Lotes de entrenamiento: 286\n",
      "   - Lotes de validación: 18\n",
      "\n",
      "Época 1/15\n",
      "--------------------------------------------------\n"
     ]
    },
    {
     "name": "stderr",
     "output_type": "stream",
     "text": [
      "                                                                                         "
     ]
    },
    {
     "name": "stdout",
     "output_type": "stream",
     "text": [
      "Entrenamiento - Loss: 4.0250, Precisión: 11.53%\n",
      "Validación   - Loss: 2.4502, Precisión: 36.60%, Top-5: 67.70%\n",
      "Tiempo: 217.0s, LR: 1.52e-04\n",
      "\n",
      "Época 2/15\n",
      "--------------------------------------------------\n"
     ]
    },
    {
     "name": "stderr",
     "output_type": "stream",
     "text": [
      "                                                                                         "
     ]
    },
    {
     "name": "stdout",
     "output_type": "stream",
     "text": [
      "Entrenamiento - Loss: 2.0718, Precisión: 41.90%\n",
      "Validación   - Loss: 2654745850.9996, Precisión: 39.70%, Top-5: 75.60%\n",
      "Tiempo: 212.1s, LR: 4.37e-04\n",
      "\n",
      "Época 3/15\n",
      "--------------------------------------------------\n"
     ]
    },
    {
     "name": "stderr",
     "output_type": "stream",
     "text": [
      "                                                                                         "
     ]
    },
    {
     "name": "stdout",
     "output_type": "stream",
     "text": [
      "Entrenamiento - Loss: 1.9054, Precisión: 45.23%\n",
      "Validación   - Loss: 2.0235, Precisión: 44.00%, Top-5: 81.00%\n",
      "Tiempo: 212.5s, LR: 7.61e-04\n",
      "\n",
      "Época 4/15\n",
      "--------------------------------------------------\n"
     ]
    },
    {
     "name": "stderr",
     "output_type": "stream",
     "text": [
      "                                                                                         "
     ]
    },
    {
     "name": "stdout",
     "output_type": "stream",
     "text": [
      "Entrenamiento - Loss: 1.6859, Precisión: 50.38%\n",
      "Validación   - Loss: 1.7790, Precisión: 49.10%, Top-5: 84.10%\n",
      "Tiempo: 212.4s, LR: 9.71e-04\n",
      "\n",
      "Época 5/15\n",
      "--------------------------------------------------\n"
     ]
    },
    {
     "name": "stderr",
     "output_type": "stream",
     "text": [
      "                                                                                         "
     ]
    },
    {
     "name": "stdout",
     "output_type": "stream",
     "text": [
      "Entrenamiento - Loss: 1.4571, Precisión: 56.44%\n",
      "Validación   - Loss: 1.3190, Precisión: 62.10%, Top-5: 88.40%\n",
      "Tiempo: 212.8s, LR: 9.94e-04\n",
      "\n",
      "Época 6/15\n",
      "--------------------------------------------------\n"
     ]
    },
    {
     "name": "stderr",
     "output_type": "stream",
     "text": [
      "                                                                                         "
     ]
    },
    {
     "name": "stdout",
     "output_type": "stream",
     "text": [
      "Entrenamiento - Loss: 1.2037, Precisión: 62.50%\n",
      "Validación   - Loss: 1.2112, Precisión: 63.30%, Top-5: 90.70%\n",
      "Tiempo: 213.0s, LR: 9.50e-04\n",
      "\n",
      "Época 7/15\n",
      "--------------------------------------------------\n"
     ]
    },
    {
     "name": "stderr",
     "output_type": "stream",
     "text": [
      "                                                                                         "
     ]
    },
    {
     "name": "stdout",
     "output_type": "stream",
     "text": [
      "Entrenamiento - Loss: 0.9911, Precisión: 68.11%\n",
      "Validación   - Loss: 1.0991, Precisión: 66.90%, Top-5: 91.70%\n",
      "Tiempo: 213.6s, LR: 8.66e-04\n",
      "\n",
      "Época 8/15\n",
      "--------------------------------------------------\n"
     ]
    },
    {
     "name": "stderr",
     "output_type": "stream",
     "text": [
      "                                                                                         "
     ]
    },
    {
     "name": "stdout",
     "output_type": "stream",
     "text": [
      "Entrenamiento - Loss: 0.8292, Precisión: 73.72%\n",
      "Validación   - Loss: 1.0147, Precisión: 69.70%, Top-5: 92.10%\n",
      "Tiempo: 213.3s, LR: 7.50e-04\n",
      "\n",
      "Época 9/15\n",
      "--------------------------------------------------\n"
     ]
    },
    {
     "name": "stderr",
     "output_type": "stream",
     "text": [
      "                                                                                         "
     ]
    },
    {
     "name": "stdout",
     "output_type": "stream",
     "text": [
      "Entrenamiento - Loss: 0.6677, Precisión: 77.85%\n",
      "Validación   - Loss: 0.8283, Precisión: 75.40%, Top-5: 94.20%\n",
      "Tiempo: 214.6s, LR: 6.11e-04\n",
      "\n",
      "Época 10/15\n",
      "--------------------------------------------------\n"
     ]
    },
    {
     "name": "stderr",
     "output_type": "stream",
     "text": [
      "                                                                                         "
     ]
    },
    {
     "name": "stdout",
     "output_type": "stream",
     "text": [
      "Entrenamiento - Loss: 0.5253, Precisión: 82.47%\n",
      "Validación   - Loss: 0.7425, Precisión: 77.90%, Top-5: 94.90%\n",
      "Tiempo: 214.0s, LR: 4.62e-04\n",
      "\n",
      "Época 11/15\n",
      "--------------------------------------------------\n"
     ]
    },
    {
     "name": "stderr",
     "output_type": "stream",
     "text": [
      "                                                                                         "
     ]
    },
    {
     "name": "stdout",
     "output_type": "stream",
     "text": [
      "Entrenamiento - Loss: 0.3573, Precisión: 88.58%\n",
      "Validación   - Loss: 0.7020, Precisión: 80.10%, Top-5: 95.10%\n",
      "Tiempo: 212.7s, LR: 3.17e-04\n",
      "\n",
      "Época 12/15\n",
      "--------------------------------------------------\n"
     ]
    },
    {
     "name": "stderr",
     "output_type": "stream",
     "text": [
      "                                                                                         "
     ]
    },
    {
     "name": "stdout",
     "output_type": "stream",
     "text": [
      "Entrenamiento - Loss: 0.2443, Precisión: 91.89%\n",
      "Validación   - Loss: 0.6665, Precisión: 83.20%, Top-5: 95.00%\n",
      "Tiempo: 213.0s, LR: 1.88e-04\n",
      "\n",
      "Época 13/15\n",
      "--------------------------------------------------\n"
     ]
    },
    {
     "name": "stderr",
     "output_type": "stream",
     "text": [
      "                                                                                         "
     ]
    },
    {
     "name": "stdout",
     "output_type": "stream",
     "text": [
      "Entrenamiento - Loss: 0.1585, Precisión: 95.11%\n",
      "Validación   - Loss: 0.6436, Precisión: 83.90%, Top-5: 95.70%\n",
      "Tiempo: 213.0s, LR: 8.66e-05\n",
      "\n",
      "Época 14/15\n",
      "--------------------------------------------------\n"
     ]
    },
    {
     "name": "stderr",
     "output_type": "stream",
     "text": [
      "                                                                                         "
     ]
    },
    {
     "name": "stdout",
     "output_type": "stream",
     "text": [
      "Entrenamiento - Loss: 0.1164, Precisión: 96.61%\n",
      "Validación   - Loss: 0.6298, Precisión: 85.70%, Top-5: 95.70%\n",
      "Tiempo: 214.0s, LR: 2.21e-05\n",
      "\n",
      "Época 15/15\n",
      "--------------------------------------------------\n"
     ]
    },
    {
     "name": "stderr",
     "output_type": "stream",
     "text": [
      "                                                                                         "
     ]
    },
    {
     "name": "stdout",
     "output_type": "stream",
     "text": [
      "Entrenamiento - Loss: 0.0996, Precisión: 97.19%\n",
      "Validación   - Loss: 0.6269, Precisión: 85.30%, Top-5: 95.50%\n",
      "Tiempo: 214.5s, LR: 4.27e-09\n",
      "\n",
      "✅ Entrenamiento completado para EfficientNet-B1\n",
      "   Mejor precisión: 85.70%\n",
      "\n",
      "💾 Checkpoint guardado: checkpoints_modelos/efficientnet_b1_mejor.pth\n",
      "⏱️ Tiempo total: 3203.3s\n"
     ]
    }
   ],
   "source": [
    "# Entrenar EfficientNet-B1\n",
    "inicio_total = time.time()\n",
    "\n",
    "historial_efficientnet_b1, mejor_precision_efficientnet_b1 = entrenar_modelo(\n",
    "    modelo_efficientnet_b1,\n",
    "    loader_train_effb1,\n",
    "    loader_val_effb1,\n",
    "    config['nombre_mostrar'],\n",
    "    epocas=15\n",
    ")\n",
    "\n",
    "tiempo_total_efficientnet_b1 = time.time() - inicio_total\n",
    "\n",
    "# Guardar checkpoint\n",
    "checkpoint_path = directorio_checkpoints / f\"{nombre_modelo}_mejor.pth\"\n",
    "torch.save({\n",
    "    'modelo_state_dict': modelo_efficientnet_b1.state_dict(),\n",
    "    'configuracion': config,\n",
    "    'mejor_precision': mejor_precision_efficientnet_b1,\n",
    "    'historial': historial_efficientnet_b1,\n",
    "    'num_clases': num_clases\n",
    "}, checkpoint_path)\n",
    "\n",
    "# Almacenar resultados\n",
    "resultados_modelos[nombre_modelo] = {\n",
    "    'nombre': config['nombre_mostrar'],\n",
    "    'precision_final': historial_efficientnet_b1['precision_validacion'][-1],\n",
    "    'precision_top5_final': historial_efficientnet_b1['precision_top5_validacion'][-1],\n",
    "    'mejor_precision': mejor_precision_efficientnet_b1,\n",
    "    'tiempo_total': tiempo_total_efficientnet_b1,\n",
    "    'familia': config['familia']\n",
    "}\n",
    "\n",
    "historiales_entrenamiento[nombre_modelo] = historial_efficientnet_b1\n",
    "checkpoints_guardados[nombre_modelo] = str(checkpoint_path)\n",
    "\n",
    "print(f\"\\n💾 Checkpoint guardado: {checkpoint_path}\")\n",
    "print(f\"⏱️ Tiempo total: {tiempo_total_efficientnet_b1:.1f}s\")"
   ]
  },
  {
   "cell_type": "markdown",
   "metadata": {},
   "source": [
    "## 8. Entrenamiento EfficientNet-B2"
   ]
  },
  {
   "cell_type": "code",
   "execution_count": 26,
   "metadata": {},
   "outputs": [
    {
     "name": "stdout",
     "output_type": "stream",
     "text": [
      "🏗️ Preparando EfficientNet-B2\n",
      "   - Tamaño de entrada: 260x260\n",
      "   - Batch size: 20\n",
      "🔌 Moviendo modelo a mps...\n",
      "✅ Modelo en mps (t=0.2s)\n",
      "✅ EfficientNet-B2 preparado con 7,841,894 parámetros\n",
      "🔌 Moviendo modelo a mps...\n",
      "✅ Modelo en mps (t=0.2s)\n",
      "✅ EfficientNet-B2 preparado con 7,841,894 parámetros\n"
     ]
    }
   ],
   "source": [
    "# Configuración EfficientNet-B2\n",
    "nombre_modelo = 'efficientnet_b2'\n",
    "config = configuraciones_modelos[nombre_modelo]\n",
    "\n",
    "print(f\"🏗️ Preparando {config['nombre_mostrar']}\")\n",
    "print(f\"   - Tamaño de entrada: {config['tamaño_entrada']}x{config['tamaño_entrada']}\")\n",
    "print(f\"   - Batch size: {config['batch_size']}\")\n",
    "\n",
    "# Crear modelo\n",
    "modelo_efficientnet_b2 = timm.create_model(\n",
    "    config['nombre_timm'], \n",
    "    pretrained=True, \n",
    "    num_classes=num_clases\n",
    ")\n",
    "modelo_efficientnet_b2 = mover_modelo_seguro(modelo_efficientnet_b2, dispositivo)\n",
    "\n",
    "# Crear dataloaders específicos\n",
    "loader_train_effb2, loader_val_effb2 = crear_dataloaders(\n",
    "    datos_entrenamiento, \n",
    "    datos_validacion, \n",
    "    config['batch_size'], \n",
    "    config['tamaño_entrada']\n",
    ")\n",
    "\n",
    "print(f\"✅ {config['nombre_mostrar']} preparado con {sum(p.numel() for p in modelo_efficientnet_b2.parameters()):,} parámetros\")"
   ]
  },
  {
   "cell_type": "code",
   "execution_count": 27,
   "metadata": {},
   "outputs": [
    {
     "name": "stdout",
     "output_type": "stream",
     "text": [
      "\n",
      "🚀 Iniciando entrenamiento de EfficientNet-B2\n",
      "   - Épocas: 15\n",
      "   - Dispositivo: mps\n",
      "   - Lotes de entrenamiento: 400\n",
      "   - Lotes de validación: 25\n",
      "\n",
      "Época 1/15\n",
      "--------------------------------------------------\n"
     ]
    },
    {
     "name": "stderr",
     "output_type": "stream",
     "text": [
      "                                                                                        "
     ]
    },
    {
     "name": "stdout",
     "output_type": "stream",
     "text": [
      "Entrenamiento - Loss: 4.2046, Precisión: 8.71%\n",
      "Validación   - Loss: 2.6608, Precisión: 30.80%, Top-5: 64.80%\n",
      "Tiempo: 289.2s, LR: 1.52e-04\n",
      "\n",
      "Época 2/15\n",
      "--------------------------------------------------\n"
     ]
    },
    {
     "name": "stderr",
     "output_type": "stream",
     "text": [
      "                                                                                         "
     ]
    },
    {
     "name": "stdout",
     "output_type": "stream",
     "text": [
      "Entrenamiento - Loss: 1.8823, Precisión: 47.56%\n",
      "Validación   - Loss: 1.2567, Precisión: 63.00%, Top-5: 91.20%\n",
      "Tiempo: 287.5s, LR: 4.37e-04\n",
      "\n",
      "Época 3/15\n",
      "--------------------------------------------------\n"
     ]
    },
    {
     "name": "stderr",
     "output_type": "stream",
     "text": [
      "                                                                                         "
     ]
    },
    {
     "name": "stdout",
     "output_type": "stream",
     "text": [
      "Entrenamiento - Loss: 1.3074, Precisión: 60.50%\n",
      "Validación   - Loss: 1.1492, Precisión: 64.10%, Top-5: 91.20%\n",
      "Tiempo: 286.4s, LR: 7.60e-04\n",
      "\n",
      "Época 4/15\n",
      "--------------------------------------------------\n"
     ]
    },
    {
     "name": "stderr",
     "output_type": "stream",
     "text": [
      "                                                                                         "
     ]
    },
    {
     "name": "stdout",
     "output_type": "stream",
     "text": [
      "Entrenamiento - Loss: 1.0824, Precisión: 66.71%\n",
      "Validación   - Loss: 1.0825, Precisión: 69.70%, Top-5: 92.50%\n",
      "Tiempo: 285.8s, LR: 9.71e-04\n",
      "\n",
      "Época 5/15\n",
      "--------------------------------------------------\n"
     ]
    },
    {
     "name": "stderr",
     "output_type": "stream",
     "text": [
      "                                                                                         "
     ]
    },
    {
     "name": "stdout",
     "output_type": "stream",
     "text": [
      "Entrenamiento - Loss: 0.8717, Precisión: 71.94%\n",
      "Validación   - Loss: 0.9755, Precisión: 70.90%, Top-5: 94.00%\n",
      "Tiempo: 286.0s, LR: 9.94e-04\n",
      "\n",
      "Época 6/15\n",
      "--------------------------------------------------\n"
     ]
    },
    {
     "name": "stderr",
     "output_type": "stream",
     "text": [
      "                                                                                         "
     ]
    },
    {
     "name": "stdout",
     "output_type": "stream",
     "text": [
      "Entrenamiento - Loss: 0.6801, Precisión: 77.61%\n",
      "Validación   - Loss: 0.8194, Precisión: 76.30%, Top-5: 95.10%\n",
      "Tiempo: 285.6s, LR: 9.50e-04\n",
      "\n",
      "Época 7/15\n",
      "--------------------------------------------------\n"
     ]
    },
    {
     "name": "stderr",
     "output_type": "stream",
     "text": [
      "                                                                                         "
     ]
    },
    {
     "name": "stdout",
     "output_type": "stream",
     "text": [
      "Entrenamiento - Loss: 0.5529, Precisión: 81.46%\n",
      "Validación   - Loss: 0.7880, Precisión: 77.00%, Top-5: 94.80%\n",
      "Tiempo: 285.8s, LR: 8.66e-04\n",
      "\n",
      "Época 8/15\n",
      "--------------------------------------------------\n"
     ]
    },
    {
     "name": "stderr",
     "output_type": "stream",
     "text": [
      "                                                                                         "
     ]
    },
    {
     "name": "stdout",
     "output_type": "stream",
     "text": [
      "Entrenamiento - Loss: 0.4205, Precisión: 85.84%\n",
      "Validación   - Loss: 0.6819, Precisión: 80.90%, Top-5: 95.20%\n",
      "Tiempo: 285.8s, LR: 7.50e-04\n",
      "\n",
      "Época 9/15\n",
      "--------------------------------------------------\n"
     ]
    },
    {
     "name": "stderr",
     "output_type": "stream",
     "text": [
      "                                                                                         "
     ]
    },
    {
     "name": "stdout",
     "output_type": "stream",
     "text": [
      "Entrenamiento - Loss: 0.3078, Precisión: 89.19%\n",
      "Validación   - Loss: 0.6793, Precisión: 83.30%, Top-5: 95.60%\n",
      "Tiempo: 285.7s, LR: 6.11e-04\n",
      "\n",
      "Época 10/15\n",
      "--------------------------------------------------\n"
     ]
    },
    {
     "name": "stderr",
     "output_type": "stream",
     "text": [
      "                                                                                         "
     ]
    },
    {
     "name": "stdout",
     "output_type": "stream",
     "text": [
      "Entrenamiento - Loss: 0.2009, Precisión: 92.85%\n",
      "Validación   - Loss: 0.6497, Precisión: 83.80%, Top-5: 95.90%\n",
      "Tiempo: 287.5s, LR: 4.62e-04\n",
      "\n",
      "Época 11/15\n",
      "--------------------------------------------------\n"
     ]
    },
    {
     "name": "stderr",
     "output_type": "stream",
     "text": [
      "                                                                                         "
     ]
    },
    {
     "name": "stdout",
     "output_type": "stream",
     "text": [
      "Entrenamiento - Loss: 0.1170, Precisión: 95.70%\n",
      "Validación   - Loss: 0.6277, Precisión: 84.90%, Top-5: 95.80%\n",
      "Tiempo: 285.2s, LR: 3.17e-04\n",
      "\n",
      "Época 12/15\n",
      "--------------------------------------------------\n"
     ]
    },
    {
     "name": "stderr",
     "output_type": "stream",
     "text": [
      "                                                                                         "
     ]
    },
    {
     "name": "stdout",
     "output_type": "stream",
     "text": [
      "Entrenamiento - Loss: 0.0873, Precisión: 96.97%\n",
      "Validación   - Loss: 0.6408, Precisión: 86.40%, Top-5: 96.40%\n",
      "Tiempo: 285.0s, LR: 1.88e-04\n",
      "\n",
      "Época 13/15\n",
      "--------------------------------------------------\n"
     ]
    },
    {
     "name": "stderr",
     "output_type": "stream",
     "text": [
      "                                                                                         "
     ]
    },
    {
     "name": "stdout",
     "output_type": "stream",
     "text": [
      "Entrenamiento - Loss: 0.0476, Precisión: 98.76%\n",
      "Validación   - Loss: 0.6129, Precisión: 86.50%, Top-5: 96.00%\n",
      "Tiempo: 286.1s, LR: 8.67e-05\n",
      "\n",
      "Época 14/15\n",
      "--------------------------------------------------\n"
     ]
    },
    {
     "name": "stderr",
     "output_type": "stream",
     "text": [
      "                                                                                         "
     ]
    },
    {
     "name": "stdout",
     "output_type": "stream",
     "text": [
      "Entrenamiento - Loss: 0.0337, Precisión: 99.11%\n",
      "Validación   - Loss: 0.6161, Precisión: 87.50%, Top-5: 96.10%\n",
      "Tiempo: 285.8s, LR: 2.21e-05\n",
      "\n",
      "Época 15/15\n",
      "--------------------------------------------------\n"
     ]
    },
    {
     "name": "stderr",
     "output_type": "stream",
     "text": [
      "                                                                                         "
     ]
    },
    {
     "name": "stdout",
     "output_type": "stream",
     "text": [
      "Entrenamiento - Loss: 0.0293, Precisión: 99.28%\n",
      "Validación   - Loss: 0.6057, Precisión: 87.10%, Top-5: 96.30%\n",
      "Tiempo: 300.7s, LR: 4.14e-09\n",
      "\n",
      "✅ Entrenamiento completado para EfficientNet-B2\n",
      "   Mejor precisión: 87.50%\n",
      "\n",
      "💾 Checkpoint guardado: checkpoints_modelos/efficientnet_b2_mejor.pth\n",
      "⏱️ Tiempo total: 4308.9s\n"
     ]
    }
   ],
   "source": [
    "# Entrenar EfficientNet-B2\n",
    "inicio_total = time.time()\n",
    "\n",
    "historial_efficientnet_b2, mejor_precision_efficientnet_b2 = entrenar_modelo(\n",
    "    modelo_efficientnet_b2,\n",
    "    loader_train_effb2,\n",
    "    loader_val_effb2,\n",
    "    config['nombre_mostrar'],\n",
    "    epocas=15\n",
    ")\n",
    "\n",
    "tiempo_total_efficientnet_b2 = time.time() - inicio_total\n",
    "\n",
    "# Guardar checkpoint\n",
    "checkpoint_path = directorio_checkpoints / f\"{nombre_modelo}_mejor.pth\"\n",
    "torch.save({\n",
    "    'modelo_state_dict': modelo_efficientnet_b2.state_dict(),\n",
    "    'configuracion': config,\n",
    "    'mejor_precision': mejor_precision_efficientnet_b2,\n",
    "    'historial': historial_efficientnet_b2,\n",
    "    'num_clases': num_clases\n",
    "}, checkpoint_path)\n",
    "\n",
    "# Almacenar resultados\n",
    "resultados_modelos[nombre_modelo] = {\n",
    "    'nombre': config['nombre_mostrar'],\n",
    "    'precision_final': historial_efficientnet_b2['precision_validacion'][-1],\n",
    "    'precision_top5_final': historial_efficientnet_b2['precision_top5_validacion'][-1],\n",
    "    'mejor_precision': mejor_precision_efficientnet_b2,\n",
    "    'tiempo_total': tiempo_total_efficientnet_b2,\n",
    "    'familia': config['familia']\n",
    "}\n",
    "\n",
    "historiales_entrenamiento[nombre_modelo] = historial_efficientnet_b2\n",
    "checkpoints_guardados[nombre_modelo] = str(checkpoint_path)\n",
    "\n",
    "print(f\"\\n💾 Checkpoint guardado: {checkpoint_path}\")\n",
    "print(f\"⏱️ Tiempo total: {tiempo_total_efficientnet_b2:.1f}s\")"
   ]
  },
  {
   "cell_type": "markdown",
   "metadata": {},
   "source": [
    "## 9. Entrenamiento DenseNet-121"
   ]
  },
  {
   "cell_type": "code",
   "execution_count": 39,
   "metadata": {},
   "outputs": [
    {
     "name": "stdout",
     "output_type": "stream",
     "text": [
      "🏗️ Preparando DenseNet-121\n",
      "   - Tamaño de entrada: 224x224\n",
      "   - Batch size: 32\n",
      "🔌 Moviendo modelo a mps...\n",
      "🔌 Moviendo modelo a mps...\n",
      "✅ Modelo en mps (t=0.4s)\n",
      "✅ DenseNet-121 preparado con 7,056,356 parámetros\n",
      "✅ Modelo en mps (t=0.4s)\n",
      "✅ DenseNet-121 preparado con 7,056,356 parámetros\n"
     ]
    }
   ],
   "source": [
    "# Configuración DenseNet-121\n",
    "nombre_modelo = 'densenet121'\n",
    "config = configuraciones_modelos[nombre_modelo]\n",
    "\n",
    "print(f\"🏗️ Preparando {config['nombre_mostrar']}\")\n",
    "print(f\"   - Tamaño de entrada: {config['tamaño_entrada']}x{config['tamaño_entrada']}\")\n",
    "print(f\"   - Batch size: {config['batch_size']}\")\n",
    "\n",
    "# Crear modelo\n",
    "modelo_densenet121 = timm.create_model(\n",
    "    config['nombre_timm'], \n",
    "    pretrained=True, \n",
    "    num_classes=num_clases\n",
    ")\n",
    "modelo_densenet121 = mover_modelo_seguro(modelo_densenet121, dispositivo)\n",
    "\n",
    "# Crear dataloaders específicos\n",
    "loader_train_dense121, loader_val_dense121 = crear_dataloaders(\n",
    "    datos_entrenamiento, \n",
    "    datos_validacion, \n",
    "    config['batch_size'], \n",
    "    config['tamaño_entrada']\n",
    ")\n",
    "\n",
    "print(f\"✅ {config['nombre_mostrar']} preparado con {sum(p.numel() for p in modelo_densenet121.parameters()):,} parámetros\")"
   ]
  },
  {
   "cell_type": "code",
   "execution_count": 40,
   "metadata": {},
   "outputs": [
    {
     "name": "stdout",
     "output_type": "stream",
     "text": [
      "\n",
      "🚀 Iniciando entrenamiento de DenseNet-121\n",
      "   - Épocas: 15\n",
      "   - Dispositivo: mps\n",
      "   - Lotes de entrenamiento: 250\n",
      "   - Lotes de validación: 16\n",
      "\n",
      "Época 1/15\n",
      "--------------------------------------------------\n"
     ]
    },
    {
     "name": "stderr",
     "output_type": "stream",
     "text": [
      "                                                                                        "
     ]
    },
    {
     "name": "stdout",
     "output_type": "stream",
     "text": [
      "Entrenamiento - Loss: 4.4992, Precisión: 3.75%\n",
      "Validación   - Loss: 3.8962, Precisión: 15.50%, Top-5: 39.30%\n",
      "Tiempo: 232.3s, LR: 1.52e-04\n",
      "\n",
      "Época 2/15\n",
      "--------------------------------------------------\n"
     ]
    },
    {
     "name": "stderr",
     "output_type": "stream",
     "text": [
      "                                                                                         "
     ]
    },
    {
     "name": "stdout",
     "output_type": "stream",
     "text": [
      "Entrenamiento - Loss: 2.8770, Precisión: 30.20%\n",
      "Validación   - Loss: 2.0252, Precisión: 44.30%, Top-5: 77.00%\n",
      "Tiempo: 228.1s, LR: 4.37e-04\n",
      "\n",
      "Época 3/15\n",
      "--------------------------------------------------\n"
     ]
    },
    {
     "name": "stderr",
     "output_type": "stream",
     "text": [
      "                                                                                         "
     ]
    },
    {
     "name": "stdout",
     "output_type": "stream",
     "text": [
      "Entrenamiento - Loss: 1.7569, Precisión: 50.14%\n",
      "Validación   - Loss: 1.5875, Precisión: 53.40%, Top-5: 84.50%\n",
      "Tiempo: 228.3s, LR: 7.61e-04\n",
      "\n",
      "Época 4/15\n",
      "--------------------------------------------------\n"
     ]
    },
    {
     "name": "stderr",
     "output_type": "stream",
     "text": [
      "                                                                                         "
     ]
    },
    {
     "name": "stdout",
     "output_type": "stream",
     "text": [
      "Entrenamiento - Loss: 1.4778, Precisión: 56.08%\n",
      "Validación   - Loss: 1.7505, Precisión: 51.90%, Top-5: 83.30%\n",
      "Tiempo: 227.1s, LR: 9.71e-04\n",
      "\n",
      "Época 5/15\n",
      "--------------------------------------------------\n"
     ]
    },
    {
     "name": "stderr",
     "output_type": "stream",
     "text": [
      "                                                                                         "
     ]
    },
    {
     "name": "stdout",
     "output_type": "stream",
     "text": [
      "Entrenamiento - Loss: 1.2416, Precisión: 62.00%\n",
      "Validación   - Loss: 1.4934, Precisión: 55.80%, Top-5: 88.10%\n",
      "Tiempo: 227.1s, LR: 9.94e-04\n",
      "\n",
      "Época 6/15\n",
      "--------------------------------------------------\n"
     ]
    },
    {
     "name": "stderr",
     "output_type": "stream",
     "text": [
      "                                                                                         "
     ]
    },
    {
     "name": "stdout",
     "output_type": "stream",
     "text": [
      "Entrenamiento - Loss: 0.9905, Precisión: 68.99%\n",
      "Validación   - Loss: 1.0363, Precisión: 67.20%, Top-5: 92.10%\n",
      "Tiempo: 223.5s, LR: 9.50e-04\n",
      "\n",
      "Época 7/15\n",
      "--------------------------------------------------\n"
     ]
    },
    {
     "name": "stderr",
     "output_type": "stream",
     "text": [
      "                                                                                         "
     ]
    },
    {
     "name": "stdout",
     "output_type": "stream",
     "text": [
      "Entrenamiento - Loss: 0.8094, Precisión: 73.91%\n",
      "Validación   - Loss: 1.0209, Precisión: 70.00%, Top-5: 91.60%\n",
      "Tiempo: 224.5s, LR: 8.66e-04\n",
      "\n",
      "Época 8/15\n",
      "--------------------------------------------------\n"
     ]
    },
    {
     "name": "stderr",
     "output_type": "stream",
     "text": [
      "                                                                                         "
     ]
    },
    {
     "name": "stdout",
     "output_type": "stream",
     "text": [
      "Entrenamiento - Loss: 0.6380, Precisión: 78.80%\n",
      "Validación   - Loss: 0.9884, Precisión: 70.40%, Top-5: 93.30%\n",
      "Tiempo: 221.2s, LR: 7.49e-04\n",
      "\n",
      "Época 9/15\n",
      "--------------------------------------------------\n"
     ]
    },
    {
     "name": "stderr",
     "output_type": "stream",
     "text": [
      "                                                                                         "
     ]
    },
    {
     "name": "stdout",
     "output_type": "stream",
     "text": [
      "Entrenamiento - Loss: 0.4997, Precisión: 83.81%\n",
      "Validación   - Loss: 0.7915, Precisión: 77.30%, Top-5: 94.90%\n",
      "Tiempo: 225.3s, LR: 6.11e-04\n",
      "\n",
      "Época 10/15\n",
      "--------------------------------------------------\n"
     ]
    },
    {
     "name": "stderr",
     "output_type": "stream",
     "text": [
      "                                                                                         "
     ]
    },
    {
     "name": "stdout",
     "output_type": "stream",
     "text": [
      "Entrenamiento - Loss: 0.3703, Precisión: 87.64%\n",
      "Validación   - Loss: 0.7382, Precisión: 77.60%, Top-5: 94.80%\n",
      "Tiempo: 233.2s, LR: 4.62e-04\n",
      "\n",
      "Época 11/15\n",
      "--------------------------------------------------\n"
     ]
    },
    {
     "name": "stderr",
     "output_type": "stream",
     "text": [
      "                                                                                         "
     ]
    },
    {
     "name": "stdout",
     "output_type": "stream",
     "text": [
      "Entrenamiento - Loss: 0.2466, Precisión: 92.46%\n",
      "Validación   - Loss: 0.6765, Precisión: 82.00%, Top-5: 95.40%\n",
      "Tiempo: 232.0s, LR: 3.17e-04\n",
      "\n",
      "Época 12/15\n",
      "--------------------------------------------------\n"
     ]
    },
    {
     "name": "stderr",
     "output_type": "stream",
     "text": [
      "                                                                                         "
     ]
    },
    {
     "name": "stdout",
     "output_type": "stream",
     "text": [
      "Entrenamiento - Loss: 0.1712, Precisión: 95.00%\n",
      "Validación   - Loss: 0.6457, Precisión: 82.70%, Top-5: 95.40%\n",
      "Tiempo: 234.3s, LR: 1.88e-04\n",
      "\n",
      "Época 13/15\n",
      "--------------------------------------------------\n"
     ]
    },
    {
     "name": "stderr",
     "output_type": "stream",
     "text": [
      "                                                                                         "
     ]
    },
    {
     "name": "stdout",
     "output_type": "stream",
     "text": [
      "Entrenamiento - Loss: 0.1223, Precisión: 97.00%\n",
      "Validación   - Loss: 0.6658, Precisión: 82.10%, Top-5: 95.70%\n",
      "Tiempo: 232.2s, LR: 8.65e-05\n",
      "\n",
      "Época 14/15\n",
      "--------------------------------------------------\n"
     ]
    },
    {
     "name": "stderr",
     "output_type": "stream",
     "text": [
      "                                                                                         "
     ]
    },
    {
     "name": "stdout",
     "output_type": "stream",
     "text": [
      "Entrenamiento - Loss: 0.0996, Precisión: 97.72%\n",
      "Validación   - Loss: 0.6591, Precisión: 82.40%, Top-5: 95.90%\n",
      "Tiempo: 232.1s, LR: 2.20e-05\n",
      "\n",
      "Época 15/15\n",
      "--------------------------------------------------\n"
     ]
    },
    {
     "name": "stderr",
     "output_type": "stream",
     "text": [
      "                                                                                         "
     ]
    },
    {
     "name": "stdout",
     "output_type": "stream",
     "text": [
      "Entrenamiento - Loss: 0.0868, Precisión: 98.44%\n",
      "Validación   - Loss: 0.6510, Precisión: 82.50%, Top-5: 95.60%\n",
      "Tiempo: 230.2s, LR: 4.36e-09\n",
      "\n",
      "✅ Entrenamiento completado para DenseNet-121\n",
      "   Mejor precisión: 82.70%\n",
      "\n",
      "💾 Checkpoint guardado: checkpoints_modelos/densenet121_mejor.pth\n",
      "⏱️ Tiempo total: 3431.9s\n",
      "\n",
      "💾 Checkpoint guardado: checkpoints_modelos/densenet121_mejor.pth\n",
      "⏱️ Tiempo total: 3431.9s\n"
     ]
    }
   ],
   "source": [
    "# Entrenar DenseNet-121\n",
    "inicio_total = time.time()\n",
    "\n",
    "historial_densenet121, mejor_precision_densenet121 = entrenar_modelo(\n",
    "    modelo_densenet121,\n",
    "    loader_train_dense121,\n",
    "    loader_val_dense121,\n",
    "    config['nombre_mostrar'],\n",
    "    epocas=15\n",
    ")\n",
    "\n",
    "tiempo_total_densenet121 = time.time() - inicio_total\n",
    "\n",
    "# Guardar checkpoint\n",
    "checkpoint_path = directorio_checkpoints / f\"{nombre_modelo}_mejor.pth\"\n",
    "torch.save({\n",
    "    'modelo_state_dict': modelo_densenet121.state_dict(),\n",
    "    'configuracion': config,\n",
    "    'mejor_precision': mejor_precision_densenet121,\n",
    "    'historial': historial_densenet121,\n",
    "    'num_clases': num_clases\n",
    "}, checkpoint_path)\n",
    "\n",
    "# Almacenar resultados\n",
    "resultados_modelos[nombre_modelo] = {\n",
    "    'nombre': config['nombre_mostrar'],\n",
    "    'precision_final': historial_densenet121['precision_validacion'][-1],\n",
    "    'precision_top5_final': historial_densenet121['precision_top5_validacion'][-1],\n",
    "    'mejor_precision': mejor_precision_densenet121,\n",
    "    'tiempo_total': tiempo_total_densenet121,\n",
    "    'familia': config['familia']\n",
    "}\n",
    "\n",
    "historiales_entrenamiento[nombre_modelo] = historial_densenet121\n",
    "checkpoints_guardados[nombre_modelo] = str(checkpoint_path)\n",
    "\n",
    "print(f\"\\n💾 Checkpoint guardado: {checkpoint_path}\")\n",
    "print(f\"⏱️ Tiempo total: {tiempo_total_densenet121:.1f}s\")"
   ]
  },
  {
   "cell_type": "code",
   "execution_count": 37,
   "metadata": {},
   "outputs": [
    {
     "name": "stdout",
     "output_type": "stream",
     "text": [
      "🏗️ Preparando DenseNet-169\n",
      "   - Tamaño de entrada: 224x224\n",
      "   - Batch size: 24\n",
      "🔌 Moviendo modelo a mps...\n",
      "🔌 Moviendo modelo a mps...\n",
      "✅ Modelo en mps (t=0.9s)\n",
      "✅ DenseNet-169 preparado con 7,056,356 parámetros\n",
      "✅ Modelo en mps (t=0.9s)\n",
      "✅ DenseNet-169 preparado con 7,056,356 parámetros\n"
     ]
    }
   ],
   "source": [
    "# Configuración DenseNet-169\n",
    "nombre_modelo = 'densenet169'\n",
    "config = configuraciones_modelos[nombre_modelo]\n",
    "\n",
    "print(f\"🏗️ Preparando {config['nombre_mostrar']}\")\n",
    "print(f\"   - Tamaño de entrada: {config['tamaño_entrada']}x{config['tamaño_entrada']}\")\n",
    "print(f\"   - Batch size: {config['batch_size']}\")\n",
    "\n",
    "# Crear modelo\n",
    "modelo_densenet169 = timm.create_model(\n",
    "    config['nombre_timm'], \n",
    "    pretrained=True, \n",
    "    num_classes=num_clases\n",
    ")\n",
    "modelo_densenet169 = mover_modelo_seguro(modelo_densenet169, dispositivo)\n",
    "\n",
    "# Crear dataloaders específicos\n",
    "loader_train_dense169, loader_val_dense169 = crear_dataloaders(\n",
    "    datos_entrenamiento, \n",
    "    datos_validacion, \n",
    "    config['batch_size'], \n",
    "    config['tamaño_entrada']\n",
    ")\n",
    "\n",
    "print(f\"✅ {config['nombre_mostrar']} preparado con {sum(p.numel() for p in modelo_densenet121.parameters()):,} parámetros\")"
   ]
  },
  {
   "cell_type": "code",
   "execution_count": 38,
   "metadata": {},
   "outputs": [
    {
     "name": "stdout",
     "output_type": "stream",
     "text": [
      "\n",
      "🚀 Iniciando entrenamiento de DenseNet-169\n",
      "   - Épocas: 15\n",
      "   - Dispositivo: mps\n",
      "   - Lotes de entrenamiento: 334\n",
      "   - Lotes de validación: 21\n",
      "\n",
      "Época 1/15\n",
      "--------------------------------------------------\n"
     ]
    },
    {
     "name": "stderr",
     "output_type": "stream",
     "text": [
      "                                                                                         "
     ]
    },
    {
     "name": "stdout",
     "output_type": "stream",
     "text": [
      "Entrenamiento - Loss: 4.0464, Precisión: 12.64%\n",
      "Validación   - Loss: 2.8032, Precisión: 31.50%, Top-5: 65.70%\n",
      "Tiempo: 286.3s, LR: 1.52e-04\n",
      "\n",
      "Época 2/15\n",
      "--------------------------------------------------\n"
     ]
    },
    {
     "name": "stderr",
     "output_type": "stream",
     "text": [
      "                                                                                         "
     ]
    },
    {
     "name": "stdout",
     "output_type": "stream",
     "text": [
      "Entrenamiento - Loss: 2.2939, Precisión: 39.54%\n",
      "Validación   - Loss: 1.9583, Precisión: 38.70%, Top-5: 80.50%\n",
      "Tiempo: 278.0s, LR: 4.37e-04\n",
      "\n",
      "Época 3/15\n",
      "--------------------------------------------------\n"
     ]
    },
    {
     "name": "stderr",
     "output_type": "stream",
     "text": [
      "                                                                                         "
     ]
    },
    {
     "name": "stdout",
     "output_type": "stream",
     "text": [
      "Entrenamiento - Loss: 1.8482, Precisión: 45.74%\n",
      "Validación   - Loss: 1.8831, Precisión: 44.60%, Top-5: 82.10%\n",
      "Tiempo: 275.8s, LR: 7.61e-04\n",
      "\n",
      "Época 4/15\n",
      "--------------------------------------------------\n"
     ]
    },
    {
     "name": "stderr",
     "output_type": "stream",
     "text": [
      "                                                                                         "
     ]
    },
    {
     "name": "stdout",
     "output_type": "stream",
     "text": [
      "Entrenamiento - Loss: 1.6566, Precisión: 50.66%\n",
      "Validación   - Loss: 1.7752, Precisión: 49.10%, Top-5: 86.40%\n",
      "Tiempo: 278.7s, LR: 9.71e-04\n",
      "\n",
      "Época 5/15\n",
      "--------------------------------------------------\n"
     ]
    },
    {
     "name": "stderr",
     "output_type": "stream",
     "text": [
      "                                                                                         "
     ]
    },
    {
     "name": "stdout",
     "output_type": "stream",
     "text": [
      "Entrenamiento - Loss: 1.4252, Precisión: 56.26%\n",
      "Validación   - Loss: 1.4270, Precisión: 58.10%, Top-5: 87.00%\n",
      "Tiempo: 276.9s, LR: 9.94e-04\n",
      "\n",
      "Época 6/15\n",
      "--------------------------------------------------\n"
     ]
    },
    {
     "name": "stderr",
     "output_type": "stream",
     "text": [
      "                                                                                         "
     ]
    },
    {
     "name": "stdout",
     "output_type": "stream",
     "text": [
      "Entrenamiento - Loss: 1.2031, Precisión: 62.08%\n",
      "Validación   - Loss: 1.4331, Precisión: 59.90%, Top-5: 89.10%\n",
      "Tiempo: 276.2s, LR: 9.50e-04\n",
      "\n",
      "Época 7/15\n",
      "--------------------------------------------------\n"
     ]
    },
    {
     "name": "stderr",
     "output_type": "stream",
     "text": [
      "                                                                                         "
     ]
    },
    {
     "name": "stdout",
     "output_type": "stream",
     "text": [
      "Entrenamiento - Loss: 0.9843, Precisión: 68.95%\n",
      "Validación   - Loss: 1.1320, Precisión: 66.20%, Top-5: 91.80%\n",
      "Tiempo: 266.3s, LR: 8.66e-04\n",
      "\n",
      "Época 8/15\n",
      "--------------------------------------------------\n"
     ]
    },
    {
     "name": "stderr",
     "output_type": "stream",
     "text": [
      "                                                                                         "
     ]
    },
    {
     "name": "stdout",
     "output_type": "stream",
     "text": [
      "Entrenamiento - Loss: 0.8260, Precisión: 73.91%\n",
      "Validación   - Loss: 1.0073, Precisión: 70.30%, Top-5: 92.70%\n",
      "Tiempo: 263.0s, LR: 7.50e-04\n",
      "\n",
      "Época 9/15\n",
      "--------------------------------------------------\n"
     ]
    },
    {
     "name": "stderr",
     "output_type": "stream",
     "text": [
      "                                                                                         "
     ]
    },
    {
     "name": "stdout",
     "output_type": "stream",
     "text": [
      "Entrenamiento - Loss: 0.6770, Precisión: 77.96%\n",
      "Validación   - Loss: 0.8005, Precisión: 74.30%, Top-5: 94.00%\n",
      "Tiempo: 264.1s, LR: 6.11e-04\n",
      "\n",
      "Época 10/15\n",
      "--------------------------------------------------\n"
     ]
    },
    {
     "name": "stderr",
     "output_type": "stream",
     "text": [
      "                                                                                         "
     ]
    },
    {
     "name": "stdout",
     "output_type": "stream",
     "text": [
      "Entrenamiento - Loss: 0.4956, Precisión: 83.29%\n",
      "Validación   - Loss: 0.7463, Precisión: 78.30%, Top-5: 94.90%\n",
      "Tiempo: 262.8s, LR: 4.62e-04\n",
      "\n",
      "Época 11/15\n",
      "--------------------------------------------------\n"
     ]
    },
    {
     "name": "stderr",
     "output_type": "stream",
     "text": [
      "                                                                                         "
     ]
    },
    {
     "name": "stdout",
     "output_type": "stream",
     "text": [
      "Entrenamiento - Loss: 0.3586, Precisión: 88.29%\n",
      "Validación   - Loss: 0.6838, Precisión: 79.70%, Top-5: 95.80%\n",
      "Tiempo: 262.4s, LR: 3.17e-04\n",
      "\n",
      "Época 12/15\n",
      "--------------------------------------------------\n"
     ]
    },
    {
     "name": "stderr",
     "output_type": "stream",
     "text": [
      "                                                                                         "
     ]
    },
    {
     "name": "stdout",
     "output_type": "stream",
     "text": [
      "Entrenamiento - Loss: 0.2497, Precisión: 92.35%\n",
      "Validación   - Loss: 0.6593, Precisión: 81.40%, Top-5: 95.50%\n",
      "Tiempo: 262.7s, LR: 1.88e-04\n",
      "\n",
      "Época 13/15\n",
      "--------------------------------------------------\n"
     ]
    },
    {
     "name": "stderr",
     "output_type": "stream",
     "text": [
      "                                                                                         "
     ]
    },
    {
     "name": "stdout",
     "output_type": "stream",
     "text": [
      "Entrenamiento - Loss: 0.1757, Precisión: 95.00%\n",
      "Validación   - Loss: 0.6146, Precisión: 82.90%, Top-5: 96.00%\n",
      "Tiempo: 264.3s, LR: 8.66e-05\n",
      "\n",
      "Época 14/15\n",
      "--------------------------------------------------\n"
     ]
    },
    {
     "name": "stderr",
     "output_type": "stream",
     "text": [
      "                                                                                         "
     ]
    },
    {
     "name": "stdout",
     "output_type": "stream",
     "text": [
      "Entrenamiento - Loss: 0.1286, Precisión: 96.51%\n",
      "Validación   - Loss: 0.6091, Precisión: 84.10%, Top-5: 96.00%\n",
      "Tiempo: 271.7s, LR: 2.21e-05\n",
      "\n",
      "Época 15/15\n",
      "--------------------------------------------------\n"
     ]
    },
    {
     "name": "stderr",
     "output_type": "stream",
     "text": [
      "                                                                                         "
     ]
    },
    {
     "name": "stdout",
     "output_type": "stream",
     "text": [
      "Entrenamiento - Loss: 0.1142, Precisión: 97.16%\n",
      "Validación   - Loss: 0.6154, Precisión: 83.50%, Top-5: 95.90%\n",
      "Tiempo: 276.9s, LR: 4.20e-09\n",
      "\n",
      "✅ Entrenamiento completado para DenseNet-169\n",
      "   Mejor precisión: 84.10%\n",
      "\n",
      "💾 Checkpoint guardado: checkpoints_modelos/densenet169_mejor.pth\n",
      "⏱️ Tiempo total: 4066.9s\n",
      "\n",
      "💾 Checkpoint guardado: checkpoints_modelos/densenet169_mejor.pth\n",
      "⏱️ Tiempo total: 4066.9s\n"
     ]
    }
   ],
   "source": [
    "# Entrenar DenseNet-169\n",
    "inicio_total = time.time()\n",
    "\n",
    "historial_densenet169, mejor_precision_densenet169 = entrenar_modelo(\n",
    "    modelo_densenet169,\n",
    "    loader_train_dense169,\n",
    "    loader_val_dense169,\n",
    "    config['nombre_mostrar'],\n",
    "    epocas=15\n",
    ")\n",
    "\n",
    "tiempo_total_densenet169 = time.time() - inicio_total\n",
    "\n",
    "# Guardar checkpoint\n",
    "checkpoint_path = directorio_checkpoints / f\"{nombre_modelo}_mejor.pth\"\n",
    "torch.save({\n",
    "    'modelo_state_dict': modelo_densenet169.state_dict(),\n",
    "    'configuracion': config,\n",
    "    'mejor_precision': mejor_precision_densenet169,\n",
    "    'historial': historial_densenet169,\n",
    "    'num_clases': num_clases\n",
    "}, checkpoint_path)\n",
    "\n",
    "tiempo_total_densenet169 = time.time() - inicio_total\n",
    "\n",
    "# Guardar checkpoint\n",
    "checkpoint_path = directorio_checkpoints / f\"{nombre_modelo}_mejor.pth\"\n",
    "torch.save({\n",
    "    'modelo_state_dict': modelo_densenet169.state_dict(),\n",
    "    'configuracion': config,\n",
    "    'mejor_precision': mejor_precision_densenet169,\n",
    "    'historial': historial_densenet169,\n",
    "    'num_clases': num_clases\n",
    "}, checkpoint_path)\n",
    "\n",
    "# Almacenar resultados\n",
    "resultados_modelos[nombre_modelo] = {\n",
    "    'nombre': config['nombre_mostrar'],\n",
    "    'precision_final': historial_densenet169['precision_validacion'][-1],\n",
    "    'precision_top5_final': historial_densenet169['precision_top5_validacion'][-1],\n",
    "    'mejor_precision': mejor_precision_densenet169,\n",
    "    'tiempo_total': tiempo_total_densenet169,\n",
    "    'familia': config['familia']\n",
    "}\n",
    "\n",
    "historiales_entrenamiento[nombre_modelo] = historial_densenet169\n",
    "checkpoints_guardados[nombre_modelo] = str(checkpoint_path)\n",
    "\n",
    "print(f\"\\n💾 Checkpoint guardado: {checkpoint_path}\")\n",
    "print(f\"⏱️ Tiempo total: {tiempo_total_densenet169:.1f}s\")"
   ]
  },
  {
   "cell_type": "markdown",
   "metadata": {},
   "source": [
    "## 10. Comparación y Análisis: 15 épocas"
   ]
  },
  {
   "cell_type": "code",
   "execution_count": 41,
   "metadata": {},
   "outputs": [
    {
     "name": "stdout",
     "output_type": "stream",
     "text": [
      "📊 Generando resumen de resultados...\n",
      "\n",
      "🏆 RESULTADOS FINALES - COMPARACIÓN DE MODELOS\n",
      "================================================================================\n",
      "         Modelo      Familia  Precisión Top-1 (%)  Precisión Top-5 (%)  Mejor Precisión (%)  Tiempo Total (s)\n",
      "EfficientNet-B2 EfficientNet                 87.1                 96.3                 87.5            4308.9\n",
      "EfficientNet-B1 EfficientNet                 85.3                 95.5                 85.7            3203.3\n",
      "   DenseNet-169     DenseNet                 83.5                 95.9                 84.1            4066.9\n",
      "   DenseNet-121     DenseNet                 82.5                 95.6                 82.7            3431.9\n",
      "EfficientNet-B0 EfficientNet                 81.7                 95.4                 82.9            2224.5\n",
      "      ResNet-50       ResNet                 70.4                 93.1                 70.4            1273.1\n",
      "      ResNet-18       ResNet                 62.2                 88.3                 62.2             714.1\n",
      "      ResNet-34       ResNet                 60.6                 89.5                 60.6             870.3\n",
      "================================================================================\n"
     ]
    }
   ],
   "source": [
    "# Crear tabla comparativa de resultados\n",
    "print(\"📊 Generando resumen de resultados...\")\n",
    "\n",
    "# Crear DataFrame con los resultados\n",
    "data_comparacion = []\n",
    "for modelo_id, resultado in resultados_modelos.items():\n",
    "    data_comparacion.append({\n",
    "        'Modelo': resultado['nombre'],\n",
    "        'Familia': resultado['familia'],\n",
    "        'Precisión Top-1 (%)': round(resultado['precision_final'], 2),\n",
    "        'Precisión Top-5 (%)': round(resultado['precision_top5_final'], 2),\n",
    "        'Mejor Precisión (%)': round(resultado['mejor_precision'], 2),\n",
    "        'Tiempo Total (s)': round(resultado['tiempo_total'], 1)\n",
    "    })\n",
    "\n",
    "df_resultados = pd.DataFrame(data_comparacion)\n",
    "df_resultados = df_resultados.sort_values('Precisión Top-1 (%)', ascending=False)\n",
    "\n",
    "print(\"\\n🏆 RESULTADOS FINALES - COMPARACIÓN DE MODELOS\")\n",
    "print(\"=\" * 80)\n",
    "print(df_resultados.to_string(index=False))\n",
    "print(\"=\" * 80)"
   ]
  },
  {
   "cell_type": "code",
   "execution_count": 42,
   "metadata": {},
   "outputs": [
    {
     "data": {
      "image/png": "[encoded data removed]",
      "text/plain": [
       "<Figure size 1600x1200 with 4 Axes>"
      ]
     },
     "metadata": {},
     "output_type": "display_data"
    }
   ],
   "source": [
    "# Gráfico de barras comparativo\n",
    "fig, axes = plt.subplots(2, 2, figsize=(16, 12))\n",
    "fig.suptitle('📊 Análisis Comparativo de Modelos - Clasificación de Aviones', fontsize=16, fontweight='bold')\n",
    "\n",
    "# Definir colores por familia\n",
    "colores_familia = {\n",
    "    'ResNet': '#E74C3C',\n",
    "    'EfficientNet': '#3498DB', \n",
    "    'DenseNet': '#2ECC71'\n",
    "}\n",
    "\n",
    "# Gráfico 1: Precisión Top-1\n",
    "colores_barras = [colores_familia[familia] for familia in df_resultados['Familia']]\n",
    "bars1 = axes[0,0].bar(df_resultados['Modelo'], df_resultados['Precisión Top-1 (%)'], color=colores_barras)\n",
    "axes[0,0].set_title('Precisión Top-1 por Modelo (%)', fontweight='bold')\n",
    "axes[0,0].set_ylabel('Precisión (%)')\n",
    "axes[0,0].tick_params(axis='x', rotation=45)\n",
    "axes[0,0].grid(True, alpha=0.3)\n",
    "\n",
    "# Añadir valores en las barras\n",
    "for bar, valor in zip(bars1, df_resultados['Precisión Top-1 (%)']):\n",
    "    height = bar.get_height()\n",
    "    axes[0,0].text(bar.get_x() + bar.get_width()/2., height + 0.5, f'{valor}%',\n",
    "                   ha='center', va='bottom', fontweight='bold', fontsize=9)\n",
    "\n",
    "# Gráfico 2: Precisión Top-5\n",
    "bars2 = axes[0,1].bar(df_resultados['Modelo'], df_resultados['Precisión Top-5 (%)'], color=colores_barras)\n",
    "axes[0,1].set_title('Precisión Top-5 por Modelo (%)', fontweight='bold')\n",
    "axes[0,1].set_ylabel('Precisión (%)')\n",
    "axes[0,1].tick_params(axis='x', rotation=45)\n",
    "axes[0,1].grid(True, alpha=0.3)\n",
    "\n",
    "# Añadir valores en las barras\n",
    "for bar, valor in zip(bars2, df_resultados['Precisión Top-5 (%)']):\n",
    "    height = bar.get_height()\n",
    "    axes[0,1].text(bar.get_x() + bar.get_width()/2., height + 0.5, f'{valor}%',\n",
    "                   ha='center', va='bottom', fontweight='bold', fontsize=9)\n",
    "\n",
    "# Gráfico 3: Tiempo de entrenamiento\n",
    "bars3 = axes[1,0].bar(df_resultados['Modelo'], df_resultados['Tiempo Total (s)'], color=colores_barras)\n",
    "axes[1,0].set_title('Tiempo de Entrenamiento por Modelo (segundos)', fontweight='bold')\n",
    "axes[1,0].set_ylabel('Tiempo (s)')\n",
    "axes[1,0].tick_params(axis='x', rotation=45)\n",
    "axes[1,0].grid(True, alpha=0.3)\n",
    "\n",
    "# Añadir valores en las barras\n",
    "for bar, valor in zip(bars3, df_resultados['Tiempo Total (s)']):\n",
    "    height = bar.get_height()\n",
    "    axes[1,0].text(bar.get_x() + bar.get_width()/2., height + 2, f'{valor}s',\n",
    "                   ha='center', va='bottom', fontweight='bold', fontsize=9)\n",
    "\n",
    "# Gráfico 4: Rendimiento vs Tiempo (Scatter)\n",
    "for familia in df_resultados['Familia'].unique():\n",
    "    datos_familia = df_resultados[df_resultados['Familia'] == familia]\n",
    "    axes[1,1].scatter(datos_familia['Tiempo Total (s)'], datos_familia['Precisión Top-1 (%)'], \n",
    "                     color=colores_familia[familia], label=familia, s=100, alpha=0.7)\n",
    "    \n",
    "    # Añadir etiquetas a los puntos\n",
    "    for idx, row in datos_familia.iterrows():\n",
    "        axes[1,1].annotate(row['Modelo'].split('-')[0], \n",
    "                          (row['Tiempo Total (s)'], row['Precisión Top-1 (%)']),\n",
    "                          xytext=(5, 5), textcoords='offset points', fontsize=8)\n",
    "\n",
    "axes[1,1].set_title('Rendimiento vs Tiempo de Entrenamiento', fontweight='bold')\n",
    "axes[1,1].set_xlabel('Tiempo de Entrenamiento (s)')\n",
    "axes[1,1].set_ylabel('Precisión Top-1 (%)')\n",
    "axes[1,1].legend()\n",
    "axes[1,1].grid(True, alpha=0.3)\n",
    "\n",
    "plt.tight_layout()\n",
    "plt.show()"
   ]
  },
  {
   "cell_type": "code",
   "execution_count": 34,
   "metadata": {},
   "outputs": [
    {
     "name": "stdout",
     "output_type": "stream",
     "text": [
      "\n",
      "💾 Resultados exportados a: resultados_comparacion_modelos_20250825_090520.csv\n",
      "📊 Historial de entrenamiento guardado en: historial_entrenamiento_20250825_090520.json\n"
     ]
    }
   ],
   "source": [
    "# Exportar resultados a CSV\n",
    "timestamp = datetime.now().strftime(\"%Y%m%d_%H%M%S\")\n",
    "archivo_csv = f'resultados_comparacion_modelos_{timestamp}.csv'\n",
    "\n",
    "# Crear DataFrame expandido para exportación\n",
    "df_exportacion = df_resultados.copy()\n",
    "df_exportacion['Fecha_Experimento'] = datetime.now().strftime(\"%Y-%m-%d %H:%M:%S\")\n",
    "df_exportacion['GPU_Utilizada'] = info_gpu\n",
    "df_exportacion['Epocas_Entrenamiento'] = 3\n",
    "df_exportacion['Dataset_Total_Imagenes'] = total_imagenes\n",
    "df_exportacion['Num_Clases'] = num_clases\n",
    "\n",
    "# Guardar CSV\n",
    "df_exportacion.to_csv(archivo_csv, index=False, encoding='utf-8')\n",
    "print(f\"\\n💾 Resultados exportados a: {archivo_csv}\")\n",
    "\n",
    "# Guardar también el historial detallado\n",
    "historial_detallado = {}\n",
    "for modelo_id, historial in historiales_entrenamiento.items():\n",
    "    nombre_modelo = configuraciones_modelos[modelo_id]['nombre_mostrar']\n",
    "    historial_detallado[nombre_modelo] = historial\n",
    "\n",
    "archivo_historial = f'historial_entrenamiento_{timestamp}.json'\n",
    "import json\n",
    "with open(archivo_historial, 'w', encoding='utf-8') as f:\n",
    "    json.dump(historial_detallado, f, indent=2, ensure_ascii=False)\n",
    "\n",
    "print(f\"📊 Historial de entrenamiento guardado en: {archivo_historial}\")"
   ]
  },
  {
   "cell_type": "code",
   "execution_count": 35,
   "metadata": {},
   "outputs": [
    {
     "name": "stdout",
     "output_type": "stream",
     "text": [
      "\n",
      "💾 CHECKPOINTS GUARDADOS:\n",
      "==================================================\n",
      "ResNet-18            -  62.20% - checkpoints_modelos/resnet18_mejor.pth\n",
      "ResNet-34            -  60.60% - checkpoints_modelos/resnet34_mejor.pth\n",
      "ResNet-50            -  70.40% - checkpoints_modelos/resnet50_mejor.pth\n",
      "EfficientNet-B0      -  82.90% - checkpoints_modelos/efficientnet_b0_mejor.pth\n",
      "EfficientNet-B1      -  85.70% - checkpoints_modelos/efficientnet_b1_mejor.pth\n",
      "EfficientNet-B2      -  87.50% - checkpoints_modelos/efficientnet_b2_mejor.pth\n",
      "DenseNet-121         -  83.20% - checkpoints_modelos/densenet121_mejor.pth\n",
      "DenseNet-169         -  84.80% - checkpoints_modelos/densenet169_mejor.pth\n",
      "\n",
      "✅ EXPERIMENTO COMPLETADO EXITOSAMENTE\n",
      "   - Total de modelos entrenados: 8\n"
     ]
    },
    {
     "ename": "NameError",
     "evalue": "name 'mejor_modelo' is not defined",
     "output_type": "error",
     "traceback": [
      "\u001b[31m---------------------------------------------------------------------------\u001b[39m",
      "\u001b[31mNameError\u001b[39m                                 Traceback (most recent call last)",
      "\u001b[36mCell\u001b[39m\u001b[36m \u001b[39m\u001b[32mIn[35]\u001b[39m\u001b[32m, line 11\u001b[39m\n\u001b[32m      9\u001b[39m \u001b[38;5;28mprint\u001b[39m(\u001b[33mf\u001b[39m\u001b[33m\"\u001b[39m\u001b[38;5;130;01m\\n\u001b[39;00m\u001b[33m✅ EXPERIMENTO COMPLETADO EXITOSAMENTE\u001b[39m\u001b[33m\"\u001b[39m)\n\u001b[32m     10\u001b[39m \u001b[38;5;28mprint\u001b[39m(\u001b[33mf\u001b[39m\u001b[33m\"\u001b[39m\u001b[33m   - Total de modelos entrenados: \u001b[39m\u001b[38;5;132;01m{\u001b[39;00m\u001b[38;5;28mlen\u001b[39m(resultados_modelos)\u001b[38;5;132;01m}\u001b[39;00m\u001b[33m\"\u001b[39m)\n\u001b[32m---> \u001b[39m\u001b[32m11\u001b[39m \u001b[38;5;28mprint\u001b[39m(\u001b[33mf\u001b[39m\u001b[33m\"\u001b[39m\u001b[33m   - Mejor modelo: \u001b[39m\u001b[38;5;132;01m{\u001b[39;00m\u001b[43mmejor_modelo\u001b[49m[\u001b[33m'\u001b[39m\u001b[33mModelo\u001b[39m\u001b[33m'\u001b[39m]\u001b[38;5;132;01m}\u001b[39;00m\u001b[33m (\u001b[39m\u001b[38;5;132;01m{\u001b[39;00mmejor_modelo[\u001b[33m'\u001b[39m\u001b[33mPrecisión Top-1 (\u001b[39m\u001b[33m%\u001b[39m\u001b[33m)\u001b[39m\u001b[33m'\u001b[39m]\u001b[38;5;132;01m}\u001b[39;00m\u001b[33m%)\u001b[39m\u001b[33m\"\u001b[39m)\n\u001b[32m     12\u001b[39m \u001b[38;5;28mprint\u001b[39m(\u001b[33mf\u001b[39m\u001b[33m\"\u001b[39m\u001b[33m   - Tiempo total de experimento: \u001b[39m\u001b[38;5;132;01m{\u001b[39;00m\u001b[38;5;28msum\u001b[39m([r[\u001b[33m'\u001b[39m\u001b[33mtiempo_total\u001b[39m\u001b[33m'\u001b[39m]\u001b[38;5;250m \u001b[39m\u001b[38;5;28;01mfor\u001b[39;00m\u001b[38;5;250m \u001b[39mr\u001b[38;5;250m \u001b[39m\u001b[38;5;129;01min\u001b[39;00m\u001b[38;5;250m \u001b[39mresultados_modelos.values()])\u001b[38;5;132;01m:\u001b[39;00m\u001b[33m.1f\u001b[39m\u001b[38;5;132;01m}\u001b[39;00m\u001b[33ms\u001b[39m\u001b[33m\"\u001b[39m)\n\u001b[32m     13\u001b[39m \u001b[38;5;28mprint\u001b[39m(\u001b[33mf\u001b[39m\u001b[33m\"\u001b[39m\u001b[33m   - GPU utilizada: \u001b[39m\u001b[38;5;132;01m{\u001b[39;00minfo_gpu\u001b[38;5;132;01m}\u001b[39;00m\u001b[33m\"\u001b[39m)\n",
      "\u001b[31mNameError\u001b[39m: name 'mejor_modelo' is not defined"
     ]
    }
   ],
   "source": [
    "# Resumen de checkpoints guardados\n",
    "print(\"\\n💾 CHECKPOINTS GUARDADOS:\")\n",
    "print(\"=\" * 50)\n",
    "for modelo_id, checkpoint_path in checkpoints_guardados.items():\n",
    "    nombre = configuraciones_modelos[modelo_id]['nombre_mostrar']\n",
    "    precision = resultados_modelos[modelo_id]['mejor_precision']\n",
    "    print(f\"{nombre:<20} - {precision:>6.2f}% - {checkpoint_path}\")\n",
    "\n",
    "print(f\"\\n✅ EXPERIMENTO COMPLETADO EXITOSAMENTE\")\n",
    "print(f\"   - Total de modelos entrenados: {len(resultados_modelos)}\")\n",
    "print(f\"   - Mejor modelo: {mejor_modelo['Modelo']} ({mejor_modelo['Precisión Top-1 (%)']}%)\")\n",
    "print(f\"   - Tiempo total de experimento: {sum([r['tiempo_total'] for r in resultados_modelos.values()]):.1f}s\")\n",
    "print(f\"   - GPU utilizada: {info_gpu}\")\n",
    "print(f\"   - Dataset: {total_imagenes:,} imágenes, {num_clases} clases\")\n",
    "print(f\"\\n🎯 Los checkpoints y resultados están listos para uso posterior.\")"
   ]
  },
  {
   "cell_type": "markdown",
   "metadata": {},
   "source": [
    "# 12. Evaluación ampliada (50 épocas): EfficientNet B1 y B2, DenseNet 121"
   ]
  },
  {
   "cell_type": "code",
   "execution_count": 36,
   "metadata": {},
   "outputs": [
    {
     "data": {
      "image/jpeg": "[encoded data removed]",
      "image/png": "[encoded data removed]",
      "text/plain": [
       "<PIL.JpegImagePlugin.JpegImageFile image mode=RGB size=628x250>"
      ]
     },
     "metadata": {},
     "output_type": "display_data"
    }
   ],
   "source": [
    "from PIL import Image\n",
    "from IPython.display import display\n",
    "\n",
    "path = \"Resultados 50 Epochs.jpg\" \n",
    "img = Image.open(path)\n",
    "display(img)"
   ]
  }
 ],
 "metadata": {
  "kernelspec": {
   "display_name": ".venv",
   "language": "python",
   "name": "python3"
  },
  "language_info": {
   "codemirror_mode": {
    "name": "ipython",
    "version": 3
   },
   "file_extension": ".py",
   "mimetype": "text/x-python",
   "name": "python",
   "nbconvert_exporter": "python",
   "pygments_lexer": "ipython3",
   "version": "3.13.5"
  }
 },
 "nbformat": 4,
 "nbformat_minor": 4
}
